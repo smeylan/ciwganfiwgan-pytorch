{
 "cells": [
  {
   "cell_type": "code",
   "execution_count": 1,
   "id": "4bde96ac-d568-482b-90ad-6ee117655e7a",
   "metadata": {},
   "outputs": [],
   "source": [
    "import torch\n",
    "import torch.optim as optim\n",
    "import numpy as np\n",
    "import pandas as pd\n",
    "from tqdm import tqdm\n",
    "from infowavegan import WaveGANQNetwork\n",
    "from torch.utils.data import DataLoader\n",
    "import glob\n",
    "import os\n",
    "from scipy.io.wavfile import read\n",
    "import librosa\n",
    "from IPython.display import Audio, display\n",
    "import train_Q2_TD\n",
    "import q_dev_fns"
   ]
  },
  {
   "cell_type": "code",
   "execution_count": 2,
   "id": "abfd11a6-e127-4a26-b9e3-6aa00e014523",
   "metadata": {},
   "outputs": [],
   "source": [
    "NUM_CATEG = 11\n",
    "SLICE_LEN = 16384\n",
    "device=\"cuda\"\n",
    "LEARNING_RATE = 1e-4\n",
    "timit_words = \"she had your suit in dark greasy wash water all year\".split(' ')+['UNK']\n",
    "datadir = \"/home/stephan/notebooks/talker_variability/TIMIT_padded/\"\n",
    "BATCH_SIZE = 192\n",
    "start_epoch = 0\n",
    "start_step = 0\n",
    "NUM_EPOCHS = 25"
   ]
  },
  {
   "cell_type": "code",
   "execution_count": 3,
   "id": "59f4ad13-dd6e-4097-98f3-f39f056d81c1",
   "metadata": {},
   "outputs": [],
   "source": [
    "Q = WaveGANQNetwork(slice_len=SLICE_LEN, num_categ=NUM_CATEG).to(device).train()\n",
    "optimizer_Q_to_Q = optim.RMSprop(Q.parameters(), lr=LEARNING_RATE)\n",
    "criterion_Q = lambda inpt, target: torch.nn.CrossEntropyLoss()(inpt, target.max(dim=1)[1])"
   ]
  },
  {
   "cell_type": "code",
   "execution_count": 4,
   "id": "da9f9336-059f-4bf3-9fac-57c672e497df",
   "metadata": {},
   "outputs": [
    {
     "name": "stdout",
     "output_type": "stream",
     "text": [
      "Loading data\n"
     ]
    },
    {
     "name": "stderr",
     "output_type": "stream",
     "text": [
      "100%|██████████| 5082/5082 [00:01<00:00, 3825.80it/s]\n"
     ]
    }
   ],
   "source": [
    "# start a dataloader with the Q network\n",
    "dataset = train_Q2_TD.AudioDataSet(datadir, SLICE_LEN, NUM_CATEG, timit_words)\n",
    "dataloader = DataLoader(\n",
    "    dataset,\n",
    "    BATCH_SIZE,\n",
    "    shuffle=True,\n",
    "    num_workers=1,\n",
    "    drop_last=True\n",
    ")"
   ]
  },
  {
   "cell_type": "code",
   "execution_count": 5,
   "id": "fab94a9c-7b3f-49ea-bfb8-dccc16b47904",
   "metadata": {},
   "outputs": [],
   "source": [
    "regenerate = False\n",
    "if regenerate:\n",
    "    step = start_step\n",
    "    for epoch in range(start_epoch + 1, NUM_EPOCHS):\n",
    "        print(\"Epoch {} of {}\".format(epoch, NUM_EPOCHS))\n",
    "        print(\"-----------------------------------------\")\n",
    "\n",
    "        pbar = tqdm(dataloader)            \n",
    "        for i, trial in enumerate(pbar):            \n",
    "            reals = trial[0].to(device)\n",
    "            labels = trial[1].to(device)        \n",
    "            optimizer_Q_to_Q.zero_grad()\n",
    "            adult_recovers_from_adult = Q(reals)    \n",
    "            Q_comprehension_loss = criterion_Q(adult_recovers_from_adult, labels[:,0:NUM_CATEG]) # Note we exclude the UNK label --  child never intends to produce unk\n",
    "            print(Q_comprehension_loss)\n",
    "            Q_comprehension_loss.backward()\n",
    "            optimizer_Q_to_Q.step()\n",
    "            step += 1\n",
    "    torch.save(Q, 'saved_networks/adult_pretrained_Q_network.torch')\n",
    "else:\n",
    "    Q = torch.load('saved_networks/adult_pretrained_Q_network.torch')\n",
    "    Q.eval()\n",
    "    \n",
    "# freeze it\n",
    "for p in Q.parameters():\n",
    "    p.requires_grad = True"
   ]
  },
  {
   "cell_type": "code",
   "execution_count": 6,
   "id": "301d3b89-e3c8-4dd0-9b1b-651ace1c9a30",
   "metadata": {},
   "outputs": [],
   "source": [
    "Q = torch.load('saved_networks/adult_pretrained_Q_network.torch')\n",
    "Q = Q.eval()"
   ]
  },
  {
   "cell_type": "markdown",
   "id": "aface392-2c57-4e5d-a380-e75c5b309c33",
   "metadata": {},
   "source": [
    "# Run the Adult Q network on a new dataset"
   ]
  },
  {
   "cell_type": "code",
   "execution_count": 37,
   "id": "dd0ba094-cf94-45c1-8312-5a6f12cc4fbf",
   "metadata": {},
   "outputs": [
    {
     "name": "stderr",
     "output_type": "stream",
     "text": [
      "100%|██████████| 132/132 [00:00<00:00, 4211.73it/s]\n"
     ]
    }
   ],
   "source": [
    "# Directory from a network that hasn't elarned the word-to-referent mapping\n",
    "test_folder = '/home/stephan/notebooks/ciwganfiwgan-pytorch/run_log/12_TD_2000+_batchedQupdate/2001/'\n",
    "X, Y, filenames  = q_dev_fns.load_wavs_and_labels(test_folder, SLICE_LEN, NUM_CATEG, device, timit_words)\n",
    "Q_vals = torch.nn.Softmax(dim=1)(Q(X))"
   ]
  },
  {
   "cell_type": "code",
   "execution_count": 48,
   "id": "24f53864-54e3-4f33-b066-992471bc06f6",
   "metadata": {},
   "outputs": [
    {
     "name": "stdout",
     "output_type": "stream",
     "text": [
      "> \u001b[0;32m/home/stephan/notebooks/ciwganfiwgan-pytorch/q_dev_fns.py\u001b[0m(60)\u001b[0;36mevaluate_asr_system\u001b[0;34m()\u001b[0m\n",
      "\u001b[0;32m     58 \u001b[0;31m    \u001b[0;32mimport\u001b[0m \u001b[0mpdb\u001b[0m\u001b[0;34m\u001b[0m\u001b[0;34m\u001b[0m\u001b[0m\n",
      "\u001b[0m\u001b[0;32m     59 \u001b[0;31m    \u001b[0mpdb\u001b[0m\u001b[0;34m.\u001b[0m\u001b[0mset_trace\u001b[0m\u001b[0;34m(\u001b[0m\u001b[0;34m)\u001b[0m\u001b[0;34m\u001b[0m\u001b[0;34m\u001b[0m\u001b[0m\n",
      "\u001b[0m\u001b[0;32m---> 60 \u001b[0;31m    rdf = pd.DataFrame({\n",
      "\u001b[0m\u001b[0;32m     61 \u001b[0;31m        \u001b[0;34m\"human label\"\u001b[0m\u001b[0;34m:\u001b[0m\u001b[0;34m[\u001b[0m\u001b[0mtimit_words\u001b[0m\u001b[0;34m[\u001b[0m\u001b[0mx\u001b[0m\u001b[0;34m]\u001b[0m \u001b[0;32mfor\u001b[0m \u001b[0mx\u001b[0m \u001b[0;32min\u001b[0m \u001b[0mtorch\u001b[0m\u001b[0;34m.\u001b[0m\u001b[0margmax\u001b[0m\u001b[0;34m(\u001b[0m\u001b[0mY\u001b[0m\u001b[0;34m[\u001b[0m\u001b[0mfailures\u001b[0m\u001b[0;34m,\u001b[0m\u001b[0;34m:\u001b[0m\u001b[0;34m]\u001b[0m\u001b[0;34m,\u001b[0m \u001b[0mdim\u001b[0m\u001b[0;34m=\u001b[0m\u001b[0;36m1\u001b[0m\u001b[0;34m)\u001b[0m\u001b[0;34m.\u001b[0m\u001b[0mdetach\u001b[0m\u001b[0;34m(\u001b[0m\u001b[0;34m)\u001b[0m\u001b[0;34m.\u001b[0m\u001b[0mcpu\u001b[0m\u001b[0;34m(\u001b[0m\u001b[0;34m)\u001b[0m\u001b[0;34m.\u001b[0m\u001b[0mnumpy\u001b[0m\u001b[0;34m(\u001b[0m\u001b[0;34m)\u001b[0m\u001b[0;34m]\u001b[0m\u001b[0;34m,\u001b[0m\u001b[0;34m\u001b[0m\u001b[0;34m\u001b[0m\u001b[0m\n",
      "\u001b[0m\u001b[0;32m     62 \u001b[0;31m        \u001b[0;34m\"asr system label\"\u001b[0m\u001b[0;34m:\u001b[0m\u001b[0;34m[\u001b[0m\u001b[0mtimit_words\u001b[0m\u001b[0;34m[\u001b[0m\u001b[0mx\u001b[0m\u001b[0;34m]\u001b[0m \u001b[0;32mfor\u001b[0m \u001b[0mx\u001b[0m \u001b[0;32min\u001b[0m \u001b[0mhighest_prob_from_asr\u001b[0m\u001b[0;34m[\u001b[0m\u001b[0mfailures\u001b[0m\u001b[0;34m,\u001b[0m\u001b[0;34m]\u001b[0m\u001b[0;34m.\u001b[0m\u001b[0mdetach\u001b[0m\u001b[0;34m(\u001b[0m\u001b[0;34m)\u001b[0m\u001b[0;34m.\u001b[0m\u001b[0mcpu\u001b[0m\u001b[0;34m(\u001b[0m\u001b[0;34m)\u001b[0m\u001b[0;34m.\u001b[0m\u001b[0mnumpy\u001b[0m\u001b[0;34m(\u001b[0m\u001b[0;34m)\u001b[0m\u001b[0;34m]\u001b[0m\u001b[0;34m,\u001b[0m\u001b[0;34m\u001b[0m\u001b[0;34m\u001b[0m\u001b[0m\n",
      "\u001b[0m\n"
     ]
    },
    {
     "name": "stdin",
     "output_type": "stream",
     "text": [
      "ipdb>  [timit_words[x] for x in highest_prob_from_asr[failures,].detach().cpu().numpy()]\n"
     ]
    },
    {
     "name": "stdout",
     "output_type": "stream",
     "text": [
      "*** NameError: name 'timit_words' is not defined\n"
     ]
    },
    {
     "name": "stdin",
     "output_type": "stream",
     "text": [
      "ipdb>  np.array(filenames)[failures.detach().cpu().numpy()]\n"
     ]
    },
    {
     "name": "stdout",
     "output_type": "stream",
     "text": [
      "array([['/home/stephan/notebooks/ciwganfiwgan-pytorch/run_log/12_TD_2000+_batchedQupdate/2001/suit_66f3f229-1514-499c-a703-2647b32166db.wav'],\n",
      "       ['/home/stephan/notebooks/ciwganfiwgan-pytorch/run_log/12_TD_2000+_batchedQupdate/2001/had_d6ca00bd-77aa-4de2-974b-da3655dc40a5.wav'],\n",
      "       ['/home/stephan/notebooks/ciwganfiwgan-pytorch/run_log/12_TD_2000+_batchedQupdate/2001/greasy_730630d8-023e-4c73-8532-bef8c5fef47d.wav'],\n",
      "       ['/home/stephan/notebooks/ciwganfiwgan-pytorch/run_log/12_TD_2000+_batchedQupdate/2001/greasy_0a114ed6-71c1-4c79-83b4-60a4350007ba.wav'],\n",
      "       ['/home/stephan/notebooks/ciwganfiwgan-pytorch/run_log/12_TD_2000+_batchedQupdate/2001/dark_106f1a00-0e0d-4198-afcb-9fcc994e28fe.wav'],\n",
      "       ['/home/stephan/notebooks/ciwganfiwgan-pytorch/run_log/12_TD_2000+_batchedQupdate/2001/your_00b4884d-a984-4619-baf1-ad4498270f66.wav'],\n",
      "       ['/home/stephan/notebooks/ciwganfiwgan-pytorch/run_log/12_TD_2000+_batchedQupdate/2001/year_42fa50d1-7d30-4476-b007-39ee6be29c5f.wav'],\n",
      "       ['/home/stephan/notebooks/ciwganfiwgan-pytorch/run_log/12_TD_2000+_batchedQupdate/2001/dark_e999853c-100b-4989-a5b7-fabab3717b69.wav'],\n",
      "       ['/home/stephan/notebooks/ciwganfiwgan-pytorch/run_log/12_TD_2000+_batchedQupdate/2001/greasy_41b02317-b055-4c92-8ecb-367b4a666682.wav'],\n",
      "       ['/home/stephan/notebooks/ciwganfiwgan-pytorch/run_log/12_TD_2000+_batchedQupdate/2001/she_b0615960-d724-4f41-8c1b-045cdb589709.wav'],\n",
      "       ['/home/stephan/notebooks/ciwganfiwgan-pytorch/run_log/12_TD_2000+_batchedQupdate/2001/she_2cb4c41a-044a-4449-9acd-db6acbfcf1db.wav'],\n",
      "       ['/home/stephan/notebooks/ciwganfiwgan-pytorch/run_log/12_TD_2000+_batchedQupdate/2001/dark_c0bc7319-3abd-4c0c-a982-99a156d0e5b2.wav'],\n",
      "       ['/home/stephan/notebooks/ciwganfiwgan-pytorch/run_log/12_TD_2000+_batchedQupdate/2001/greasy_76593767-0265-4947-b88e-dffd1e6c7cef.wav'],\n",
      "       ['/home/stephan/notebooks/ciwganfiwgan-pytorch/run_log/12_TD_2000+_batchedQupdate/2001/year_2ec52e94-fce8-44ad-ba64-9b4cc24920df.wav'],\n",
      "       ['/home/stephan/notebooks/ciwganfiwgan-pytorch/run_log/12_TD_2000+_batchedQupdate/2001/your_45de2848-1e62-44c5-90da-9b06a9892c32.wav'],\n",
      "       ['/home/stephan/notebooks/ciwganfiwgan-pytorch/run_log/12_TD_2000+_batchedQupdate/2001/suit_985e6548-4b1f-4f78-9618-ecc110b9a323.wav'],\n",
      "       ['/home/stephan/notebooks/ciwganfiwgan-pytorch/run_log/12_TD_2000+_batchedQupdate/2001/had_fceff066-0041-4cd0-b5b5-babd3eaddbc7.wav'],\n",
      "       ['/home/stephan/notebooks/ciwganfiwgan-pytorch/run_log/12_TD_2000+_batchedQupdate/2001/water_a664468b-2d20-4bc1-b879-1988ec561100.wav'],\n",
      "       ['/home/stephan/notebooks/ciwganfiwgan-pytorch/run_log/12_TD_2000+_batchedQupdate/2001/greasy_27d94f6c-dea4-464a-932e-73e635934730.wav'],\n",
      "       ['/home/stephan/notebooks/ciwganfiwgan-pytorch/run_log/12_TD_2000+_batchedQupdate/2001/wash_f5224799-2f80-4bb6-bbfe-1f92cbcfacba.wav'],\n",
      "       ['/home/stephan/notebooks/ciwganfiwgan-pytorch/run_log/12_TD_2000+_batchedQupdate/2001/wash_02e814b5-c4fb-439f-b1b7-ebeb03278e5b.wav'],\n",
      "       ['/home/stephan/notebooks/ciwganfiwgan-pytorch/run_log/12_TD_2000+_batchedQupdate/2001/had_fb91b7ca-5216-411b-bfc1-03d58d17123e.wav'],\n",
      "       ['/home/stephan/notebooks/ciwganfiwgan-pytorch/run_log/12_TD_2000+_batchedQupdate/2001/greasy_93d1dd18-8573-4bab-9a8a-0705d490cd40.wav'],\n",
      "       ['/home/stephan/notebooks/ciwganfiwgan-pytorch/run_log/12_TD_2000+_batchedQupdate/2001/in_6e86388e-e8ba-428f-b336-815815548732.wav'],\n",
      "       ['/home/stephan/notebooks/ciwganfiwgan-pytorch/run_log/12_TD_2000+_batchedQupdate/2001/in_1ede948e-fc7f-4d7e-a899-9835563830f0.wav'],\n",
      "       ['/home/stephan/notebooks/ciwganfiwgan-pytorch/run_log/12_TD_2000+_batchedQupdate/2001/in_72746942-f481-48bd-9cd3-bf94c90010a0.wav'],\n",
      "       ['/home/stephan/notebooks/ciwganfiwgan-pytorch/run_log/12_TD_2000+_batchedQupdate/2001/dark_dba2877c-3827-4101-a8e4-cd376e564408.wav'],\n",
      "       ['/home/stephan/notebooks/ciwganfiwgan-pytorch/run_log/12_TD_2000+_batchedQupdate/2001/dark_789b9bbd-9a91-44fc-8cd0-3f0347dc5474.wav'],\n",
      "       ['/home/stephan/notebooks/ciwganfiwgan-pytorch/run_log/12_TD_2000+_batchedQupdate/2001/water_9c1403ff-1dec-4e6e-8dc5-f0ebe930246b.wav'],\n",
      "       ['/home/stephan/notebooks/ciwganfiwgan-pytorch/run_log/12_TD_2000+_batchedQupdate/2001/water_d10c05f1-e10a-44d3-b324-47112b70e443.wav'],\n",
      "       ['/home/stephan/notebooks/ciwganfiwgan-pytorch/run_log/12_TD_2000+_batchedQupdate/2001/year_3d7d80cd-9a72-452c-b6c3-7e56c9f33cce.wav'],\n",
      "       ['/home/stephan/notebooks/ciwganfiwgan-pytorch/run_log/12_TD_2000+_batchedQupdate/2001/dark_61e4321f-62ef-437b-a6f3-7526b4fd976a.wav'],\n",
      "       ['/home/stephan/notebooks/ciwganfiwgan-pytorch/run_log/12_TD_2000+_batchedQupdate/2001/your_06ed5b0d-4963-49dd-bd06-8be8e5ca03f5.wav'],\n",
      "       ['/home/stephan/notebooks/ciwganfiwgan-pytorch/run_log/12_TD_2000+_batchedQupdate/2001/in_23640ed6-ddfd-4a11-b209-cac6703818fb.wav'],\n",
      "       ['/home/stephan/notebooks/ciwganfiwgan-pytorch/run_log/12_TD_2000+_batchedQupdate/2001/year_231d7e3e-a0d9-4a03-9a08-79886769783a.wav'],\n",
      "       ['/home/stephan/notebooks/ciwganfiwgan-pytorch/run_log/12_TD_2000+_batchedQupdate/2001/wash_d718af38-4fa3-4c8e-9cf4-3d8e746b3068.wav'],\n",
      "       ['/home/stephan/notebooks/ciwganfiwgan-pytorch/run_log/12_TD_2000+_batchedQupdate/2001/water_dbd3fd0d-d121-4a96-9f1d-f7c28cde449f.wav'],\n",
      "       ['/home/stephan/notebooks/ciwganfiwgan-pytorch/run_log/12_TD_2000+_batchedQupdate/2001/wash_5e8a309a-02b3-4cfd-b639-37f15a6640c8.wav'],\n",
      "       ['/home/stephan/notebooks/ciwganfiwgan-pytorch/run_log/12_TD_2000+_batchedQupdate/2001/greasy_662fe84f-ba05-48ca-9302-29848f76bd71.wav'],\n",
      "       ['/home/stephan/notebooks/ciwganfiwgan-pytorch/run_log/12_TD_2000+_batchedQupdate/2001/all_609c0113-d4a2-4ab7-b563-94473b4d7ccc.wav'],\n",
      "       ['/home/stephan/notebooks/ciwganfiwgan-pytorch/run_log/12_TD_2000+_batchedQupdate/2001/wash_6d57dc12-b9a9-4301-a351-bfe0164868fc.wav'],\n",
      "       ['/home/stephan/notebooks/ciwganfiwgan-pytorch/run_log/12_TD_2000+_batchedQupdate/2001/dark_e9e13a39-078f-47a1-97e0-66164b88139d.wav'],\n",
      "       ['/home/stephan/notebooks/ciwganfiwgan-pytorch/run_log/12_TD_2000+_batchedQupdate/2001/in_9fb39098-14b6-457c-b8c7-916f6f8f90fd.wav'],\n",
      "       ['/home/stephan/notebooks/ciwganfiwgan-pytorch/run_log/12_TD_2000+_batchedQupdate/2001/wash_8f597ae4-f79b-4aab-8106-9f23e927f2e5.wav'],\n",
      "       ['/home/stephan/notebooks/ciwganfiwgan-pytorch/run_log/12_TD_2000+_batchedQupdate/2001/water_20fe11f8-93bc-4e82-8c97-30f2a25dc7cb.wav'],\n",
      "       ['/home/stephan/notebooks/ciwganfiwgan-pytorch/run_log/12_TD_2000+_batchedQupdate/2001/your_fd158a88-e2a2-41e6-955c-08765973020a.wav'],\n",
      "       ['/home/stephan/notebooks/ciwganfiwgan-pytorch/run_log/12_TD_2000+_batchedQupdate/2001/suit_598b6e10-08f5-49d4-8a94-15b0783ec971.wav'],\n",
      "       ['/home/stephan/notebooks/ciwganfiwgan-pytorch/run_log/12_TD_2000+_batchedQupdate/2001/in_b6d9f712-a494-482c-b955-c6119ee63d1e.wav'],\n",
      "       ['/home/stephan/notebooks/ciwganfiwgan-pytorch/run_log/12_TD_2000+_batchedQupdate/2001/your_d5558964-9036-43c3-a420-cc64248f5bf6.wav'],\n",
      "       ['/home/stephan/notebooks/ciwganfiwgan-pytorch/run_log/12_TD_2000+_batchedQupdate/2001/your_b884a429-f41a-4712-b94d-ce622ca685c8.wav'],\n",
      "       ['/home/stephan/notebooks/ciwganfiwgan-pytorch/run_log/12_TD_2000+_batchedQupdate/2001/had_bb2ad0c8-94a8-4834-9fff-9cf68adb9762.wav'],\n",
      "       ['/home/stephan/notebooks/ciwganfiwgan-pytorch/run_log/12_TD_2000+_batchedQupdate/2001/year_98cc2e1a-5b9e-48ce-9814-6da63e906e02.wav'],\n",
      "       ['/home/stephan/notebooks/ciwganfiwgan-pytorch/run_log/12_TD_2000+_batchedQupdate/2001/in_eb395e52-aefd-4d47-b84f-a1e4cedcdee4.wav'],\n",
      "       ['/home/stephan/notebooks/ciwganfiwgan-pytorch/run_log/12_TD_2000+_batchedQupdate/2001/year_b75368ed-ea5c-484f-8d49-acc99d836a5c.wav'],\n",
      "       ['/home/stephan/notebooks/ciwganfiwgan-pytorch/run_log/12_TD_2000+_batchedQupdate/2001/in_d1318b6e-6f50-4e34-b2be-855d2e7008d4.wav'],\n",
      "       ['/home/stephan/notebooks/ciwganfiwgan-pytorch/run_log/12_TD_2000+_batchedQupdate/2001/year_31c10174-50ee-4e5c-ad72-54cdf6ff5d55.wav'],\n",
      "       ['/home/stephan/notebooks/ciwganfiwgan-pytorch/run_log/12_TD_2000+_batchedQupdate/2001/she_db442345-c512-4f91-abea-fc8604920ac1.wav'],\n",
      "       ['/home/stephan/notebooks/ciwganfiwgan-pytorch/run_log/12_TD_2000+_batchedQupdate/2001/dark_c639342a-4719-466b-8179-f7e891318c7b.wav'],\n",
      "       ['/home/stephan/notebooks/ciwganfiwgan-pytorch/run_log/12_TD_2000+_batchedQupdate/2001/she_ba98c6b6-a2eb-476e-aba3-41673353eb91.wav'],\n",
      "       ['/home/stephan/notebooks/ciwganfiwgan-pytorch/run_log/12_TD_2000+_batchedQupdate/2001/had_aea75e2d-530f-4ca2-9ab7-b12481357f20.wav'],\n",
      "       ['/home/stephan/notebooks/ciwganfiwgan-pytorch/run_log/12_TD_2000+_batchedQupdate/2001/water_14960cad-64df-42f5-bec0-cfb9df78e5be.wav'],\n",
      "       ['/home/stephan/notebooks/ciwganfiwgan-pytorch/run_log/12_TD_2000+_batchedQupdate/2001/all_245c0f85-ada6-48a3-8f30-f44c4a58f1f4.wav'],\n",
      "       ['/home/stephan/notebooks/ciwganfiwgan-pytorch/run_log/12_TD_2000+_batchedQupdate/2001/had_16b2e27e-3509-4259-8615-f24f6a05d3fc.wav'],\n",
      "       ['/home/stephan/notebooks/ciwganfiwgan-pytorch/run_log/12_TD_2000+_batchedQupdate/2001/suit_d10315a4-48d8-4980-8b44-b31f861fc85b.wav'],\n",
      "       ['/home/stephan/notebooks/ciwganfiwgan-pytorch/run_log/12_TD_2000+_batchedQupdate/2001/greasy_d09a6245-43a0-4bfb-8664-c18da0c27884.wav'],\n",
      "       ['/home/stephan/notebooks/ciwganfiwgan-pytorch/run_log/12_TD_2000+_batchedQupdate/2001/dark_22f26c9a-78fa-4f04-afb1-376480236d5c.wav'],\n",
      "       ['/home/stephan/notebooks/ciwganfiwgan-pytorch/run_log/12_TD_2000+_batchedQupdate/2001/in_e79dfa69-8b8c-49db-8f04-e07458a7cc98.wav'],\n",
      "       ['/home/stephan/notebooks/ciwganfiwgan-pytorch/run_log/12_TD_2000+_batchedQupdate/2001/she_b87074d8-1ffc-4f34-868a-a7d7a124bc6d.wav'],\n",
      "       ['/home/stephan/notebooks/ciwganfiwgan-pytorch/run_log/12_TD_2000+_batchedQupdate/2001/suit_6632655d-c20a-4b98-958b-db2928d72c96.wav'],\n",
      "       ['/home/stephan/notebooks/ciwganfiwgan-pytorch/run_log/12_TD_2000+_batchedQupdate/2001/water_83ce15ef-5205-402f-b2c4-1fbea1a48ead.wav'],\n",
      "       ['/home/stephan/notebooks/ciwganfiwgan-pytorch/run_log/12_TD_2000+_batchedQupdate/2001/year_58a91766-be44-4fc8-8166-69138876e8da.wav'],\n",
      "       ['/home/stephan/notebooks/ciwganfiwgan-pytorch/run_log/12_TD_2000+_batchedQupdate/2001/she_6a224114-229a-4522-9a39-265b56a65793.wav'],\n",
      "       ['/home/stephan/notebooks/ciwganfiwgan-pytorch/run_log/12_TD_2000+_batchedQupdate/2001/in_3a20e86e-78f8-4362-bc01-e0658de3dd3a.wav'],\n",
      "       ['/home/stephan/notebooks/ciwganfiwgan-pytorch/run_log/12_TD_2000+_batchedQupdate/2001/year_3b55c302-79ff-4677-98a0-776880e5c8d7.wav'],\n",
      "       ['/home/stephan/notebooks/ciwganfiwgan-pytorch/run_log/12_TD_2000+_batchedQupdate/2001/greasy_ad10ceb7-357a-4038-ad7c-6a50ac4dc529.wav'],\n",
      "       ['/home/stephan/notebooks/ciwganfiwgan-pytorch/run_log/12_TD_2000+_batchedQupdate/2001/your_815bf8e3-7fc2-454f-858d-747d334661f2.wav'],\n",
      "       ['/home/stephan/notebooks/ciwganfiwgan-pytorch/run_log/12_TD_2000+_batchedQupdate/2001/wash_ea8ba5e0-2de1-4801-af82-a90cebb1edf7.wav'],\n",
      "       ['/home/stephan/notebooks/ciwganfiwgan-pytorch/run_log/12_TD_2000+_batchedQupdate/2001/your_824257ca-4565-4920-adf9-6991646a8648.wav'],\n",
      "       ['/home/stephan/notebooks/ciwganfiwgan-pytorch/run_log/12_TD_2000+_batchedQupdate/2001/all_9c13a4b4-2b03-46c3-acc5-28570555c6f1.wav'],\n",
      "       ['/home/stephan/notebooks/ciwganfiwgan-pytorch/run_log/12_TD_2000+_batchedQupdate/2001/wash_166417ad-da08-41c9-a1bc-2aaecbc6fa77.wav'],\n",
      "       ['/home/stephan/notebooks/ciwganfiwgan-pytorch/run_log/12_TD_2000+_batchedQupdate/2001/had_2b24548a-0be0-4343-8aa7-46fd26ced4c6.wav'],\n",
      "       ['/home/stephan/notebooks/ciwganfiwgan-pytorch/run_log/12_TD_2000+_batchedQupdate/2001/had_7df9cb5c-bc13-4d44-9038-88a0fb4454ed.wav'],\n",
      "       ['/home/stephan/notebooks/ciwganfiwgan-pytorch/run_log/12_TD_2000+_batchedQupdate/2001/had_ecee1ce0-d231-4392-887a-0ac4a9034c84.wav'],\n",
      "       ['/home/stephan/notebooks/ciwganfiwgan-pytorch/run_log/12_TD_2000+_batchedQupdate/2001/greasy_36f518f7-a08e-49ba-b175-acb9df79a627.wav'],\n",
      "       ['/home/stephan/notebooks/ciwganfiwgan-pytorch/run_log/12_TD_2000+_batchedQupdate/2001/had_0493894e-ad4a-46dd-ab15-669a29047b38.wav'],\n",
      "       ['/home/stephan/notebooks/ciwganfiwgan-pytorch/run_log/12_TD_2000+_batchedQupdate/2001/dark_6284893e-df48-469e-9893-2e3c265a351a.wav'],\n",
      "       ['/home/stephan/notebooks/ciwganfiwgan-pytorch/run_log/12_TD_2000+_batchedQupdate/2001/year_904070c7-b69f-4c61-bbfe-cf512f41344b.wav'],\n",
      "       ['/home/stephan/notebooks/ciwganfiwgan-pytorch/run_log/12_TD_2000+_batchedQupdate/2001/all_29301e81-4d96-48b4-8bab-546ffb36fb66.wav'],\n",
      "       ['/home/stephan/notebooks/ciwganfiwgan-pytorch/run_log/12_TD_2000+_batchedQupdate/2001/she_fd548b76-a09b-4ade-bdc3-64d4271baae8.wav'],\n",
      "       ['/home/stephan/notebooks/ciwganfiwgan-pytorch/run_log/12_TD_2000+_batchedQupdate/2001/she_b4a3935a-57d4-48dd-8c75-b51ff193dfe5.wav'],\n",
      "       ['/home/stephan/notebooks/ciwganfiwgan-pytorch/run_log/12_TD_2000+_batchedQupdate/2001/water_53f0b9b0-09d6-41b2-b671-fb65464b856d.wav'],\n",
      "       ['/home/stephan/notebooks/ciwganfiwgan-pytorch/run_log/12_TD_2000+_batchedQupdate/2001/she_a36c617d-c137-4f1a-b81a-f7ed1e878e7c.wav'],\n",
      "       ['/home/stephan/notebooks/ciwganfiwgan-pytorch/run_log/12_TD_2000+_batchedQupdate/2001/dark_b99be39b-d852-493b-b3aa-d7788265e5be.wav'],\n",
      "       ['/home/stephan/notebooks/ciwganfiwgan-pytorch/run_log/12_TD_2000+_batchedQupdate/2001/wash_eda91e9a-6cbb-4bd3-bb47-8ee3dce7a885.wav'],\n",
      "       ['/home/stephan/notebooks/ciwganfiwgan-pytorch/run_log/12_TD_2000+_batchedQupdate/2001/year_a14c7c7c-316f-40d8-9e16-664fd480fd40.wav'],\n",
      "       ['/home/stephan/notebooks/ciwganfiwgan-pytorch/run_log/12_TD_2000+_batchedQupdate/2001/all_cf294927-5a3d-488d-835a-64557c6bcc4b.wav'],\n",
      "       ['/home/stephan/notebooks/ciwganfiwgan-pytorch/run_log/12_TD_2000+_batchedQupdate/2001/dark_4c10d97e-759b-4980-ba6b-665b3ac8692b.wav'],\n",
      "       ['/home/stephan/notebooks/ciwganfiwgan-pytorch/run_log/12_TD_2000+_batchedQupdate/2001/wash_6a273fce-5529-47ca-9c25-dd18d3c38ccc.wav']],\n",
      "      dtype='<U132')\n"
     ]
    },
    {
     "name": "stdin",
     "output_type": "stream",
     "text": [
      "ipdb>  entropy.detach().cpu().numpy()\n"
     ]
    },
    {
     "name": "stdout",
     "output_type": "stream",
     "text": [
      "array([8.3105604e-04, 1.0552123e-01, 1.9722385e-02, 1.8919653e-03,\n",
      "       1.8312564e-01, 1.1843285e-01, 3.3941832e-01, 5.7909605e-03,\n",
      "       9.5785677e-04, 4.5949817e-01, 2.0801069e-03, 4.4921562e-02,\n",
      "       7.8311890e-02, 3.4640680e-06, 5.0858699e-02, 5.6081202e-02,\n",
      "       3.9788924e-02, 6.8964696e-01, 1.8066065e-02, 2.8742902e-02,\n",
      "       3.5138275e-02, 7.4596864e-01, 4.1039228e-01, 4.5483431e-04,\n",
      "       8.5786216e-02, 9.9896395e-01, 3.7284564e-05, 1.1278809e-01,\n",
      "       1.7858491e-03, 9.1813179e-03, 3.9337134e-05, 3.5220095e-05,\n",
      "       3.1331316e-01, 4.2141496e-06, 1.0316052e-03, 1.1680208e+00,\n",
      "       6.3663017e-04, 7.8496721e-04, 3.5701430e-01, 2.5333991e-02,\n",
      "       5.3363729e-01, 1.5182777e-01, 9.2403844e-02, 3.7816335e-05,\n",
      "       4.8999971e-01, 3.6573064e-01, 8.5303652e-01, 6.6162261e-06,\n",
      "       5.9300037e-03, 2.1020963e-04, 1.5397066e-01, 2.9519826e-01,\n",
      "       1.1612479e-01, 6.1184406e-01, 5.1258969e-01, 9.6425533e-01,\n",
      "       3.2161757e-01, 4.6137295e-04, 3.8216240e-07, 8.6722357e-06,\n",
      "       7.3572367e-02, 6.6792750e-01, 2.5473677e-03, 4.7388142e-03,\n",
      "       1.0399307e+00, 5.9187233e-01, 3.3656009e-02, 6.1108409e-03,\n",
      "       4.1977693e-03, 4.1744646e-02, 7.4647825e-05, 1.1929369e-03,\n",
      "       4.2685509e-01, 1.4309207e-02, 4.9184471e-02, 1.8482906e-01,\n",
      "       1.6145338e-03, 1.0097879e-03, 4.4777062e-02, 7.0944357e-01,\n",
      "       1.6557133e-01, 7.9573238e-01, 1.9691610e-01, 1.9154083e-02,\n",
      "       1.1796634e-05, 3.0734679e-03, 7.3715734e-01, 3.5007867e-01,\n",
      "       7.4236268e-05, 8.1599539e-04, 8.9135909e-01, 8.5579748e-05,\n",
      "       2.2460576e-05, 3.7545657e-01, 4.5992434e-01, 6.8900138e-03,\n",
      "       2.2393741e-02, 3.6699898e-04, 2.9792763e-02, 7.9450416e-05,\n",
      "       2.6137293e-03, 4.0047252e-01, 1.0326036e-03, 1.8207332e-03,\n",
      "       1.6682777e-01, 2.5358370e-03, 1.1693913e-04, 7.1105482e-03,\n",
      "       4.0149262e-05, 1.7853739e-04, 7.6644914e-03, 6.0485768e-08,\n",
      "       5.6572759e-01, 2.2649967e-05, 3.8806322e-01, 2.6001912e-02,\n",
      "       3.3825171e-01, 2.8887104e-07, 3.6579141e-01, 4.1508171e-01,\n",
      "       2.1223049e-01, 3.5904913e-04, 2.2477765e-01, 2.3247795e-03,\n",
      "       9.9980328e-03, 8.8775312e-07, 8.2007563e-01, 9.9983847e-01,\n",
      "       1.9929843e-01, 6.4528871e-01, 6.6858007e-07, 6.2468243e-01],\n",
      "      dtype=float32)\n"
     ]
    },
    {
     "name": "stdin",
     "output_type": "stream",
     "text": [
      "ipdb>  matches.detach().cpu().numpy()\n"
     ]
    },
    {
     "name": "stdout",
     "output_type": "stream",
     "text": [
      "array([False, False, False, False, False, False, False, False, False,\n",
      "       False,  True, False, False, False, False, False, False, False,\n",
      "       False, False, False, False, False, False, False, False,  True,\n",
      "        True, False, False, False, False, False, False, False, False,\n",
      "        True,  True, False, False,  True, False, False,  True,  True,\n",
      "       False, False,  True, False, False, False, False, False, False,\n",
      "        True,  True,  True, False, False,  True, False, False,  True,\n",
      "       False, False, False, False, False,  True, False,  True,  True,\n",
      "       False, False,  True, False, False, False, False, False, False,\n",
      "       False,  True, False, False,  True, False, False, False,  True,\n",
      "       False, False,  True, False, False, False, False,  True, False,\n",
      "       False, False,  True,  True,  True, False, False, False, False,\n",
      "       False,  True, False, False,  True, False, False, False, False,\n",
      "        True,  True,  True, False, False,  True,  True,  True, False,\n",
      "       False, False, False, False, False, False])\n"
     ]
    },
    {
     "name": "stdin",
     "output_type": "stream",
     "text": [
      "ipdb>  [timit_words[x] for x in highest_prob_from_asr[failures,].detach().cpu().numpy()]\n"
     ]
    },
    {
     "name": "stdout",
     "output_type": "stream",
     "text": [
      "*** NameError: name 'timit_words' is not defined\n"
     ]
    },
    {
     "name": "stdin",
     "output_type": "stream",
     "text": [
      "ipdb>  timit_words\n"
     ]
    },
    {
     "name": "stdout",
     "output_type": "stream",
     "text": [
      "array(['she', 'had', 'your', 'suit', 'in', 'dark', 'greasy', 'wash',\n",
      "       'water', 'all', 'year', 'UNK'], dtype='<U6')\n"
     ]
    },
    {
     "name": "stdin",
     "output_type": "stream",
     "text": [
      "ipdb>  quit()\n"
     ]
    }
   ],
   "source": [
    "q_dev_fns.evaluate_asr_system(Q_vals, Y, device, timit_words, filenames)"
   ]
  },
  {
   "cell_type": "code",
   "execution_count": 220,
   "id": "b12119bf-3e4b-46ad-82cb-a56800fcb106",
   "metadata": {},
   "outputs": [
    {
     "name": "stderr",
     "output_type": "stream",
     "text": [
      "100%|██████████| 133/133 [00:00<00:00, 4147.87it/s]\n"
     ]
    }
   ],
   "source": [
    "# Directory with hand-labeled data\n",
    "test_folder = '/home/stephan/notebooks/ciwganfiwgan-pytorch/q2_dev_data/2001_relabeled/'\n",
    "X, Y, filenames  = q_dev_fns.load_wavs_and_labels(test_folder, SLICE_LEN, NUM_CATEG, device, timit_words)\n",
    "Q_vals = torch.nn.Softmax(dim=1)(Q(X))"
   ]
  },
  {
   "cell_type": "code",
   "execution_count": 221,
   "id": "c20c89c5-3324-4cef-8a23-2425f27a253f",
   "metadata": {},
   "outputs": [
    {
     "data": {
      "text/plain": [
       "torch.Size([133, 11])"
      ]
     },
     "execution_count": 221,
     "metadata": {},
     "output_type": "execute_result"
    }
   ],
   "source": [
    "Q_vals.shape"
   ]
  },
  {
   "cell_type": "code",
   "execution_count": 233,
   "id": "b5749557-489f-46b3-9bae-5fc96227851a",
   "metadata": {},
   "outputs": [],
   "source": [
    "import imp\n",
    "imp.reload(q_dev_fns)\n",
    "Q_vals_with_unks = q_dev_fns.mark_unks_in_Q(Q_vals, .1, device)"
   ]
  },
  {
   "cell_type": "code",
   "execution_count": 234,
   "id": "efe80a2c-8d9f-421d-8f07-5e787617d6c1",
   "metadata": {},
   "outputs": [
    {
     "data": {
      "text/plain": [
       "{'df':     human label asr system label  matches   \n",
       " 0          suit             suit     True  \\\n",
       " 1           UNK             your    False   \n",
       " 2           UNK              UNK     True   \n",
       " 3           all              all     True   \n",
       " 4           UNK              UNK     True   \n",
       " ..          ...              ...      ...   \n",
       " 128         UNK              UNK     True   \n",
       " 129        your             your     True   \n",
       " 130        your              UNK    False   \n",
       " 131      greasy           greasy     True   \n",
       " 132         UNK              all    False   \n",
       " \n",
       "                                              filenames   entropy  recognized  \n",
       " 0    /home/stephan/notebooks/ciwganfiwgan-pytorch/q...  0.000930        True  \n",
       " 1    /home/stephan/notebooks/ciwganfiwgan-pytorch/q...  0.040710       False  \n",
       " 2    /home/stephan/notebooks/ciwganfiwgan-pytorch/q...  0.010132        True  \n",
       " 3    /home/stephan/notebooks/ciwganfiwgan-pytorch/q...  0.003001        True  \n",
       " 4    /home/stephan/notebooks/ciwganfiwgan-pytorch/q...  0.010132        True  \n",
       " ..                                                 ...       ...         ...  \n",
       " 128  /home/stephan/notebooks/ciwganfiwgan-pytorch/q...  0.010132        True  \n",
       " 129  /home/stephan/notebooks/ciwganfiwgan-pytorch/q...  0.018987        True  \n",
       " 130  /home/stephan/notebooks/ciwganfiwgan-pytorch/q...  0.010132       False  \n",
       " 131  /home/stephan/notebooks/ciwganfiwgan-pytorch/q...  0.000933        True  \n",
       " 132  /home/stephan/notebooks/ciwganfiwgan-pytorch/q...  0.001280       False  \n",
       " \n",
       " [133 rows x 6 columns],\n",
       " 'incorrect':     human label asr system label  matches   \n",
       " 1           UNK             your    False  \\\n",
       " 7          your              UNK    False   \n",
       " 8           had              UNK    False   \n",
       " 14          UNK              had    False   \n",
       " 18          UNK              had    False   \n",
       " 19          had              UNK    False   \n",
       " 24          UNK             wash    False   \n",
       " 26         your              UNK    False   \n",
       " 28          UNK            water    False   \n",
       " 31          all              had    False   \n",
       " 33         year              UNK    False   \n",
       " 34         wash              UNK    False   \n",
       " 42          she              UNK    False   \n",
       " 44          UNK              all    False   \n",
       " 45        water              UNK    False   \n",
       " 46         year              UNK    False   \n",
       " 51          UNK             year    False   \n",
       " 54          UNK             year    False   \n",
       " 55         year              UNK    False   \n",
       " 56          UNK             suit    False   \n",
       " 58          UNK             suit    False   \n",
       " 60          UNK             year    False   \n",
       " 63         your              UNK    False   \n",
       " 66          she              UNK    False   \n",
       " 67          UNK             dark    False   \n",
       " 70          UNK              all    False   \n",
       " 71         suit              UNK    False   \n",
       " 75        water              UNK    False   \n",
       " 82          had              UNK    False   \n",
       " 83          UNK             suit    False   \n",
       " 84          UNK              all    False   \n",
       " 99         wash              UNK    False   \n",
       " 102         UNK              had    False   \n",
       " 107         UNK              had    False   \n",
       " 110       water             wash    False   \n",
       " 111         UNK               in    False   \n",
       " 116        wash              UNK    False   \n",
       " 122       water              UNK    False   \n",
       " 124         UNK               in    False   \n",
       " 125        your              UNK    False   \n",
       " 127        your               in    False   \n",
       " 130        your              UNK    False   \n",
       " 132         UNK              all    False   \n",
       " \n",
       "                                              filenames   entropy  recognized  \n",
       " 1    /home/stephan/notebooks/ciwganfiwgan-pytorch/q...  0.040710       False  \n",
       " 7    /home/stephan/notebooks/ciwganfiwgan-pytorch/q...  0.010132       False  \n",
       " 8    /home/stephan/notebooks/ciwganfiwgan-pytorch/q...  0.010132       False  \n",
       " 14   /home/stephan/notebooks/ciwganfiwgan-pytorch/q...  0.074493       False  \n",
       " 18   /home/stephan/notebooks/ciwganfiwgan-pytorch/q...  0.093325       False  \n",
       " 19   /home/stephan/notebooks/ciwganfiwgan-pytorch/q...  0.010132       False  \n",
       " 24   /home/stephan/notebooks/ciwganfiwgan-pytorch/q...  0.020643       False  \n",
       " 26   /home/stephan/notebooks/ciwganfiwgan-pytorch/q...  0.010132       False  \n",
       " 28   /home/stephan/notebooks/ciwganfiwgan-pytorch/q...  0.010919       False  \n",
       " 31   /home/stephan/notebooks/ciwganfiwgan-pytorch/q...  0.045843       False  \n",
       " 33   /home/stephan/notebooks/ciwganfiwgan-pytorch/q...  0.010132       False  \n",
       " 34   /home/stephan/notebooks/ciwganfiwgan-pytorch/q...  0.010132       False  \n",
       " 42   /home/stephan/notebooks/ciwganfiwgan-pytorch/q...  0.010132       False  \n",
       " 44   /home/stephan/notebooks/ciwganfiwgan-pytorch/q...  0.026255       False  \n",
       " 45   /home/stephan/notebooks/ciwganfiwgan-pytorch/q...  0.010132       False  \n",
       " 46   /home/stephan/notebooks/ciwganfiwgan-pytorch/q...  0.010132       False  \n",
       " 51   /home/stephan/notebooks/ciwganfiwgan-pytorch/q...  0.005119       False  \n",
       " 54   /home/stephan/notebooks/ciwganfiwgan-pytorch/q...  0.008586       False  \n",
       " 55   /home/stephan/notebooks/ciwganfiwgan-pytorch/q...  0.010132       False  \n",
       " 56   /home/stephan/notebooks/ciwganfiwgan-pytorch/q...  0.002742       False  \n",
       " 58   /home/stephan/notebooks/ciwganfiwgan-pytorch/q...  0.023315       False  \n",
       " 60   /home/stephan/notebooks/ciwganfiwgan-pytorch/q...  0.000924       False  \n",
       " 63   /home/stephan/notebooks/ciwganfiwgan-pytorch/q...  0.010132       False  \n",
       " 66   /home/stephan/notebooks/ciwganfiwgan-pytorch/q...  0.010132       False  \n",
       " 67   /home/stephan/notebooks/ciwganfiwgan-pytorch/q...  0.008032       False  \n",
       " 70   /home/stephan/notebooks/ciwganfiwgan-pytorch/q...  0.057002       False  \n",
       " 71   /home/stephan/notebooks/ciwganfiwgan-pytorch/q...  0.010132       False  \n",
       " 75   /home/stephan/notebooks/ciwganfiwgan-pytorch/q...  0.010132       False  \n",
       " 82   /home/stephan/notebooks/ciwganfiwgan-pytorch/q...  0.010132       False  \n",
       " 83   /home/stephan/notebooks/ciwganfiwgan-pytorch/q...  0.086707       False  \n",
       " 84   /home/stephan/notebooks/ciwganfiwgan-pytorch/q...  0.001706       False  \n",
       " 99   /home/stephan/notebooks/ciwganfiwgan-pytorch/q...  0.010132       False  \n",
       " 102  /home/stephan/notebooks/ciwganfiwgan-pytorch/q...  0.002536       False  \n",
       " 107  /home/stephan/notebooks/ciwganfiwgan-pytorch/q...  0.051780       False  \n",
       " 110  /home/stephan/notebooks/ciwganfiwgan-pytorch/q...  0.029664       False  \n",
       " 111  /home/stephan/notebooks/ciwganfiwgan-pytorch/q...  0.001737       False  \n",
       " 116  /home/stephan/notebooks/ciwganfiwgan-pytorch/q...  0.010132       False  \n",
       " 122  /home/stephan/notebooks/ciwganfiwgan-pytorch/q...  0.010132       False  \n",
       " 124  /home/stephan/notebooks/ciwganfiwgan-pytorch/q...  0.003535       False  \n",
       " 125  /home/stephan/notebooks/ciwganfiwgan-pytorch/q...  0.010132       False  \n",
       " 127  /home/stephan/notebooks/ciwganfiwgan-pytorch/q...  0.030714       False  \n",
       " 130  /home/stephan/notebooks/ciwganfiwgan-pytorch/q...  0.010132       False  \n",
       " 132  /home/stephan/notebooks/ciwganfiwgan-pytorch/q...  0.001280       False  ,\n",
       " 'full_performance': 0.6766917293233082,\n",
       " 'unk_precision': 0.6296296296296297,\n",
       " 'unk_recall': 0.6296296296296297,\n",
       " 'word_rec_performance': 0.7088607594936709,\n",
       " 'failures': tensor([[  1],\n",
       "         [  7],\n",
       "         [  8],\n",
       "         [ 14],\n",
       "         [ 18],\n",
       "         [ 19],\n",
       "         [ 24],\n",
       "         [ 26],\n",
       "         [ 28],\n",
       "         [ 31],\n",
       "         [ 33],\n",
       "         [ 34],\n",
       "         [ 42],\n",
       "         [ 44],\n",
       "         [ 45],\n",
       "         [ 46],\n",
       "         [ 51],\n",
       "         [ 54],\n",
       "         [ 55],\n",
       "         [ 56],\n",
       "         [ 58],\n",
       "         [ 60],\n",
       "         [ 63],\n",
       "         [ 66],\n",
       "         [ 67],\n",
       "         [ 70],\n",
       "         [ 71],\n",
       "         [ 75],\n",
       "         [ 82],\n",
       "         [ 83],\n",
       "         [ 84],\n",
       "         [ 99],\n",
       "         [102],\n",
       "         [107],\n",
       "         [110],\n",
       "         [111],\n",
       "         [116],\n",
       "         [122],\n",
       "         [124],\n",
       "         [125],\n",
       "         [127],\n",
       "         [130],\n",
       "         [132]], device='cuda:0')}"
      ]
     },
     "execution_count": 234,
     "metadata": {},
     "output_type": "execute_result"
    }
   ],
   "source": [
    "Qnetwork_results = q_dev_fns.evaluate_asr_system(Q_vals_with_unks, Y, device, timit_words, filenames)\n",
    "Qnetwork_results"
   ]
  },
  {
   "cell_type": "markdown",
   "id": "0c32e71e-7a8a-4033-bdb3-65b017ab5132",
   "metadata": {},
   "source": [
    "# Entropy Threshold"
   ]
  },
  {
   "cell_type": "code",
   "execution_count": 106,
   "id": "27aea9de-05ec-4272-84dd-60c46940db2c",
   "metadata": {},
   "outputs": [
    {
     "name": "stderr",
     "output_type": "stream",
     "text": [
      "R[write to console]: Need help? Try Stackoverflow: https://stackoverflow.com/tags/ggplot2\n",
      "\n",
      "R[write to console]: Type 'citation(\"pROC\")' for a citation.\n",
      "\n",
      "R[write to console]: \n",
      "Attaching package: ‘pROC’\n",
      "\n",
      "\n",
      "R[write to console]: The following objects are masked from ‘package:stats’:\n",
      "\n",
      "    cov, smooth, var\n",
      "\n",
      "\n"
     ]
    },
    {
     "data": {
      "text/plain": [
       "array(['pROC', 'ggplot2', 'tools', 'stats', 'graphics', 'grDevices',\n",
       "       'utils', 'datasets', 'methods', 'base'], dtype='<U9')"
      ]
     },
     "execution_count": 106,
     "metadata": {},
     "output_type": "execute_result"
    }
   ],
   "source": [
    "%reload_ext rpy2.ipython\n",
    "%R library('ggplot2')\n",
    "%R library('pROC')"
   ]
  },
  {
   "cell_type": "code",
   "execution_count": 109,
   "id": "53de9f3c-9215-45cf-ac31-3dffa8d30efb",
   "metadata": {},
   "outputs": [
    {
     "data": {
      "text/html": [
       "<div>\n",
       "<style scoped>\n",
       "    .dataframe tbody tr th:only-of-type {\n",
       "        vertical-align: middle;\n",
       "    }\n",
       "\n",
       "    .dataframe tbody tr th {\n",
       "        vertical-align: top;\n",
       "    }\n",
       "\n",
       "    .dataframe thead th {\n",
       "        text-align: right;\n",
       "    }\n",
       "</style>\n",
       "<table border=\"1\" class=\"dataframe\">\n",
       "  <thead>\n",
       "    <tr style=\"text-align: right;\">\n",
       "      <th></th>\n",
       "      <th>human label</th>\n",
       "      <th>asr system label</th>\n",
       "      <th>matches</th>\n",
       "      <th>filenames</th>\n",
       "      <th>entropy</th>\n",
       "      <th>recognized</th>\n",
       "    </tr>\n",
       "  </thead>\n",
       "  <tbody>\n",
       "    <tr>\n",
       "      <th>0</th>\n",
       "      <td>suit</td>\n",
       "      <td>suit</td>\n",
       "      <td>True</td>\n",
       "      <td>/home/stephan/notebooks/ciwganfiwgan-pytorch/q...</td>\n",
       "      <td>0.000009</td>\n",
       "      <td>True</td>\n",
       "    </tr>\n",
       "    <tr>\n",
       "      <th>1</th>\n",
       "      <td>UNK</td>\n",
       "      <td>your</td>\n",
       "      <td>False</td>\n",
       "      <td>/home/stephan/notebooks/ciwganfiwgan-pytorch/q...</td>\n",
       "      <td>0.039789</td>\n",
       "      <td>False</td>\n",
       "    </tr>\n",
       "    <tr>\n",
       "      <th>2</th>\n",
       "      <td>UNK</td>\n",
       "      <td>your</td>\n",
       "      <td>False</td>\n",
       "      <td>/home/stephan/notebooks/ciwganfiwgan-pytorch/q...</td>\n",
       "      <td>0.645289</td>\n",
       "      <td>False</td>\n",
       "    </tr>\n",
       "    <tr>\n",
       "      <th>3</th>\n",
       "      <td>all</td>\n",
       "      <td>all</td>\n",
       "      <td>True</td>\n",
       "      <td>/home/stephan/notebooks/ciwganfiwgan-pytorch/q...</td>\n",
       "      <td>0.002080</td>\n",
       "      <td>True</td>\n",
       "    </tr>\n",
       "    <tr>\n",
       "      <th>4</th>\n",
       "      <td>UNK</td>\n",
       "      <td>had</td>\n",
       "      <td>False</td>\n",
       "      <td>/home/stephan/notebooks/ciwganfiwgan-pytorch/q...</td>\n",
       "      <td>0.709444</td>\n",
       "      <td>False</td>\n",
       "    </tr>\n",
       "    <tr>\n",
       "      <th>5</th>\n",
       "      <td>suit</td>\n",
       "      <td>suit</td>\n",
       "      <td>True</td>\n",
       "      <td>/home/stephan/notebooks/ciwganfiwgan-pytorch/q...</td>\n",
       "      <td>0.000004</td>\n",
       "      <td>True</td>\n",
       "    </tr>\n",
       "  </tbody>\n",
       "</table>\n",
       "</div>"
      ],
      "text/plain": [
       "  human label asr system label  matches   \n",
       "0        suit             suit     True  \\\n",
       "1         UNK             your    False   \n",
       "2         UNK             your    False   \n",
       "3         all              all     True   \n",
       "4         UNK              had    False   \n",
       "5        suit             suit     True   \n",
       "\n",
       "                                           filenames   entropy  recognized  \n",
       "0  /home/stephan/notebooks/ciwganfiwgan-pytorch/q...  0.000009        True  \n",
       "1  /home/stephan/notebooks/ciwganfiwgan-pytorch/q...  0.039789       False  \n",
       "2  /home/stephan/notebooks/ciwganfiwgan-pytorch/q...  0.645289       False  \n",
       "3  /home/stephan/notebooks/ciwganfiwgan-pytorch/q...  0.002080        True  \n",
       "4  /home/stephan/notebooks/ciwganfiwgan-pytorch/q...  0.709444       False  \n",
       "5  /home/stephan/notebooks/ciwganfiwgan-pytorch/q...  0.000004        True  "
      ]
     },
     "execution_count": 109,
     "metadata": {},
     "output_type": "execute_result"
    }
   ],
   "source": [
    "qnr =  Qnetwork_results['df']\n",
    "%R -i qnr\n",
    "%R head(qnr)"
   ]
  },
  {
   "cell_type": "code",
   "execution_count": 110,
   "id": "4ec59023-9f70-4ecf-b128-fad4c52f8e7f",
   "metadata": {},
   "outputs": [
    {
     "data": {
      "image/png": "[encoded data removed]",
      "text/plain": [
       "<IPython.core.display.Image object>"
      ]
     },
     "metadata": {},
     "output_type": "display_data"
    }
   ],
   "source": [
    "%%R\n",
    "ggplot(qnr) + geom_density(aes(x=entropy, color = recognized))"
   ]
  },
  {
   "cell_type": "code",
   "execution_count": 116,
   "id": "0029ec1c-0d0d-4ae8-a7fa-b5c39acfcfeb",
   "metadata": {},
   "outputs": [
    {
     "name": "stderr",
     "output_type": "stream",
     "text": [
      "R[write to console]: \n",
      "Attaching package: ‘plotROC’\n",
      "\n",
      "\n",
      "R[write to console]: The following object is masked from ‘package:pROC’:\n",
      "\n",
      "    ggroc\n",
      "\n",
      "\n"
     ]
    }
   ],
   "source": [
    "%%R\n",
    "library('plotROC')"
   ]
  },
  {
   "cell_type": "code",
   "execution_count": 118,
   "id": "ba6449e3-cb30-4583-a41d-ef5a64396f6d",
   "metadata": {},
   "outputs": [
    {
     "data": {
      "image/png": "[encoded data removed]",
      "text/plain": [
       "<IPython.core.display.Image object>"
      ]
     },
     "metadata": {},
     "output_type": "display_data"
    }
   ],
   "source": [
    "%%R\n",
    "ggplot(qnr, aes(m = entropy, d = -1*recognized)) + geom_roc()"
   ]
  },
  {
   "cell_type": "markdown",
   "id": "2960af02-0e8d-41a4-9f22-7c07d18a2c18",
   "metadata": {},
   "source": [
    "# Error analysis on the Q network failures"
   ]
  },
  {
   "cell_type": "code",
   "execution_count": 12,
   "id": "28054292-cbfc-46fb-834a-8dd379525ecf",
   "metadata": {},
   "outputs": [
    {
     "name": "stdout",
     "output_type": "stream",
     "text": [
      "Mistmatch in: /home/stephan/notebooks/ciwganfiwgan-pytorch/run_log/12_TD_2000+_batchedQupdate/2001_relabeled/all_keep_2cb4c41a-044a-4449-9acd-db6acbfcf1db.wav\n",
      "Q index expects: had\n",
      "Human labeled: all\n"
     ]
    },
    {
     "data": {
      "text/html": [
       "\n",
       "                <audio  controls=\"controls\" >\n",
       "                    <source src=\"data:audio/wav;base64,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\" type=\"audio/wav\" />\n",
       "                    Your browser does not support the audio element.\n",
       "                </audio>\n",
       "              "
      ],
      "text/plain": [
       "<IPython.lib.display.Audio object>"
      ]
     },
     "metadata": {},
     "output_type": "display_data"
    }
   ],
   "source": [
    "# inspect a single file\n",
    "q_dev_fns.inpsect_failure(Qnetwork_results, 1)"
   ]
  },
  {
   "cell_type": "markdown",
   "id": "e04ca369-c63e-4f21-befe-d7dea71c3ad1",
   "metadata": {},
   "source": [
    "4, Q network is just wrong  \n",
    "5, Q network is wrong, but it's ambiguous  \n",
    "13, in vs. your -- similar production to #4  \n",
    "16, Q network is wrong  \n",
    "17, Q network is just wrong  \n",
    "20, Q network is just wrong  \n",
    "26, Q network is just wrong  \n",
    "27, ambigous -- year and in at the same time  \n",
    "31, Q network is wrong  \n",
    "44, Q network is wrong   \n",
    "49, Q netwrok is wrong  \n",
    "66, Q netwrok is wrong, but slightly weird water   \n",
    "74, Q netwrok is wrong, but slightly weird water   \n",
    "76, ambiguous between year and in  \n",
    "78, Q netwrok is wrong  "
   ]
  },
  {
   "cell_type": "markdown",
   "id": "b3417847-a9bd-4f9e-a393-e9fbef1e3f2b",
   "metadata": {},
   "source": [
    "# Error Analysis on the Whisper Failures"
   ]
  },
  {
   "cell_type": "code",
   "execution_count": 235,
   "id": "082be99d-5846-4718-822e-1ca75e651194",
   "metadata": {},
   "outputs": [
    {
     "data": {
      "text/plain": [
       "<module 'train_Q2_TD' from '/home/stephan/notebooks/ciwganfiwgan-pytorch/train_Q2_TD.py'>"
      ]
     },
     "execution_count": 235,
     "metadata": {},
     "output_type": "execute_result"
    }
   ],
   "source": [
    "import imp\n",
    "imp.reload(train_Q2_TD)"
   ]
  },
  {
   "cell_type": "code",
   "execution_count": 236,
   "id": "6b106bae-3c3a-43ee-b3a9-4b4cad260873",
   "metadata": {},
   "outputs": [],
   "source": [
    "import faster_whisper\n",
    "vocab = pd.read_csv('data/vocab.csv')\n",
    "vocab = vocab.loc[vocab['count'] > 20]\n",
    "\n",
    "# Method 1: upweight proportionately\n",
    "#vocab.loc[vocab.word.isin(timit_words),'count'] = 100000. * vocab.loc[vocab.word.isin(timit_words)]['count']\n",
    "#vocab['probability'] = vocab['count'] / np.sum(vocab['count'])\n",
    "\n",
    "# Method 2: uniform over timit words, with remaining words divided\n",
    "prob_to_give_to_timit_words = .8\n",
    "vocab['upweighted_prob'] = 0\n",
    "vocab.loc[vocab.word.isin(timit_words) ,'upweighted_prob'] = prob_to_give_to_timit_words / len(timit_words)\n",
    "vocab['base_probability'] = (vocab['count'] / np.sum(vocab['count'])) * (1. - prob_to_give_to_timit_words)\n",
    "vocab['probability'] = vocab['base_probability'] + vocab['upweighted_prob']\n",
    "\n",
    "\n",
    "vocab.word = vocab.word.astype('str')\n",
    "fast_whisper_model = faster_whisper.WhisperModel('medium.en', device=\"cuda\", compute_type=\"float16\")\n",
    "Q2_GLOBALS = {\n",
    "        \"MIN_DECODING_PROB\" : .1,\n",
    "        \"MAX_NOSPEECH_PROB\" : .1,\n",
    "        \"MAX_UNK_PROB\" : .5, # this was .2\n",
    "        \"Q2_TIMEOUT\" : 2\n",
    "    }"
   ]
  },
  {
   "cell_type": "code",
   "execution_count": 237,
   "id": "7f90754a-0416-4d90-90de-a5341d3de4f0",
   "metadata": {},
   "outputs": [
    {
     "data": {
      "text/html": [
       "<div>\n",
       "<style scoped>\n",
       "    .dataframe tbody tr th:only-of-type {\n",
       "        vertical-align: middle;\n",
       "    }\n",
       "\n",
       "    .dataframe tbody tr th {\n",
       "        vertical-align: top;\n",
       "    }\n",
       "\n",
       "    .dataframe thead th {\n",
       "        text-align: right;\n",
       "    }\n",
       "</style>\n",
       "<table border=\"1\" class=\"dataframe\">\n",
       "  <thead>\n",
       "    <tr style=\"text-align: right;\">\n",
       "      <th></th>\n",
       "      <th>Unnamed: 0</th>\n",
       "      <th>word</th>\n",
       "      <th>count</th>\n",
       "      <th>upweighted_prob</th>\n",
       "      <th>base_probability</th>\n",
       "      <th>probability</th>\n",
       "    </tr>\n",
       "  </thead>\n",
       "  <tbody>\n",
       "    <tr>\n",
       "      <th>6299</th>\n",
       "      <td>6299</td>\n",
       "      <td>greasy</td>\n",
       "      <td>48</td>\n",
       "      <td>0.066667</td>\n",
       "      <td>6.500401e-07</td>\n",
       "      <td>0.066667</td>\n",
       "    </tr>\n",
       "  </tbody>\n",
       "</table>\n",
       "</div>"
      ],
      "text/plain": [
       "      Unnamed: 0    word  count  upweighted_prob  base_probability   \n",
       "6299        6299  greasy     48         0.066667      6.500401e-07  \\\n",
       "\n",
       "      probability  \n",
       "6299     0.066667  "
      ]
     },
     "execution_count": 237,
     "metadata": {},
     "output_type": "execute_result"
    }
   ],
   "source": [
    "vocab.loc[vocab.word == 'greasy']"
   ]
  },
  {
   "cell_type": "code",
   "execution_count": 238,
   "id": "258873c2-bc4d-4e5d-b77c-17bfa6815cef",
   "metadata": {},
   "outputs": [
    {
     "name": "stderr",
     "output_type": "stream",
     "text": [
      "100%|██████████| 133/133 [02:08<00:00,  1.04it/s]\n"
     ]
    }
   ],
   "source": [
    "indices_of_recognized_words, Q2_probs, filenames, whisper_recognition_info = train_Q2_TD.Q2_whisper(\n",
    "    X[:,0,:], Y, fast_whisper_model, timit_words, vocab, -1, Q2_GLOBALS, write_only=False)"
   ]
  },
  {
   "cell_type": "code",
   "execution_count": 239,
   "id": "6196a114-ebb4-4a28-bbb7-9fb8a185b4d4",
   "metadata": {},
   "outputs": [
    {
     "data": {
      "text/plain": [
       "{'df':     human label asr system label  matches   \n",
       " 0          suit              she    False  \\\n",
       " 1           UNK               in    False   \n",
       " 2           UNK              UNK     True   \n",
       " 3           all             dark    False   \n",
       " 4           UNK             suit    False   \n",
       " ..          ...              ...      ...   \n",
       " 128         UNK              UNK     True   \n",
       " 129        your              had    False   \n",
       " 130        your               in    False   \n",
       " 131      greasy           greasy     True   \n",
       " 132         UNK              all    False   \n",
       " \n",
       "                                              filenames   entropy  recognized  \n",
       " 0    temp/-1/suit_508356cb-0f4b-4a31-9198-854417929...  1.900701       False  \n",
       " 1    temp/-1/UNK_a2ff1f3a-5dd1-4313-a1b7-803863be14...  1.585936       False  \n",
       " 2    temp/-1/UNK_2303da15-439b-4abb-85cb-7ad7ce11ac...       NaN        True  \n",
       " 3    temp/-1/all_bd018d29-7835-4b3b-bb31-e97a495c4a...  1.696638       False  \n",
       " 4    temp/-1/UNK_e1c3d0e6-b3cf-4777-ba5d-daa275ab0c...  1.908298       False  \n",
       " ..                                                 ...       ...         ...  \n",
       " 128  temp/-1/UNK_5fc07f25-cd0f-4fa5-b2ad-74b6ee4e60...  1.595177        True  \n",
       " 129  temp/-1/your_8dbc6f0e-4182-4755-a11c-c8bedb845...  1.865791       False  \n",
       " 130  temp/-1/your_c97181f4-0401-45e9-a012-439b131df...  1.512253       False  \n",
       " 131  temp/-1/greasy_2ecc4680-6542-4050-96fc-9bbefd0...  0.010921        True  \n",
       " 132  temp/-1/UNK_91e7ae79-fe1a-4261-a1d2-e10fa4ef3b...  1.835108       False  \n",
       " \n",
       " [133 rows x 6 columns],\n",
       " 'incorrect':     human label asr system label  matches   \n",
       " 0          suit              she    False  \\\n",
       " 1           UNK               in    False   \n",
       " 3           all             dark    False   \n",
       " 4           UNK             suit    False   \n",
       " 6        greasy              UNK    False   \n",
       " ..          ...              ...      ...   \n",
       " 125        your             suit    False   \n",
       " 127        your              UNK    False   \n",
       " 129        your              had    False   \n",
       " 130        your               in    False   \n",
       " 132         UNK              all    False   \n",
       " \n",
       "                                              filenames   entropy  recognized  \n",
       " 0    temp/-1/suit_508356cb-0f4b-4a31-9198-854417929...  1.900701       False  \n",
       " 1    temp/-1/UNK_a2ff1f3a-5dd1-4313-a1b7-803863be14...  1.585936       False  \n",
       " 3    temp/-1/all_bd018d29-7835-4b3b-bb31-e97a495c4a...  1.696638       False  \n",
       " 4    temp/-1/UNK_e1c3d0e6-b3cf-4777-ba5d-daa275ab0c...  1.908298       False  \n",
       " 6    temp/-1/greasy_3ecbcaa6-59cf-465b-a891-3803d8c...  2.065343       False  \n",
       " ..                                                 ...       ...         ...  \n",
       " 125  temp/-1/your_40cf3f86-7ecc-45c0-afe3-c363430cc...  0.685126       False  \n",
       " 127  temp/-1/your_a5243758-3d9d-4746-9c60-5a0423928...  1.511117       False  \n",
       " 129  temp/-1/your_8dbc6f0e-4182-4755-a11c-c8bedb845...  1.865791       False  \n",
       " 130  temp/-1/your_c97181f4-0401-45e9-a012-439b131df...  1.512253       False  \n",
       " 132  temp/-1/UNK_91e7ae79-fe1a-4261-a1d2-e10fa4ef3b...  1.835108       False  \n",
       " \n",
       " [69 rows x 6 columns],\n",
       " 'full_performance': 0.48120300751879697,\n",
       " 'unk_precision': 0.5740740740740741,\n",
       " 'unk_recall': 0.5740740740740741,\n",
       " 'word_rec_performance': 0.4177215189873418,\n",
       " 'failures': tensor([[  0],\n",
       "         [  1],\n",
       "         [  3],\n",
       "         [  4],\n",
       "         [  6],\n",
       "         [  7],\n",
       "         [  8],\n",
       "         [ 12],\n",
       "         [ 14],\n",
       "         [ 17],\n",
       "         [ 18],\n",
       "         [ 19],\n",
       "         [ 22],\n",
       "         [ 26],\n",
       "         [ 31],\n",
       "         [ 33],\n",
       "         [ 35],\n",
       "         [ 38],\n",
       "         [ 39],\n",
       "         [ 41],\n",
       "         [ 42],\n",
       "         [ 43],\n",
       "         [ 44],\n",
       "         [ 46],\n",
       "         [ 47],\n",
       "         [ 49],\n",
       "         [ 50],\n",
       "         [ 53],\n",
       "         [ 54],\n",
       "         [ 55],\n",
       "         [ 58],\n",
       "         [ 60],\n",
       "         [ 61],\n",
       "         [ 63],\n",
       "         [ 65],\n",
       "         [ 66],\n",
       "         [ 67],\n",
       "         [ 69],\n",
       "         [ 73],\n",
       "         [ 75],\n",
       "         [ 80],\n",
       "         [ 82],\n",
       "         [ 83],\n",
       "         [ 84],\n",
       "         [ 88],\n",
       "         [ 90],\n",
       "         [ 94],\n",
       "         [ 95],\n",
       "         [ 96],\n",
       "         [ 97],\n",
       "         [ 99],\n",
       "         [100],\n",
       "         [101],\n",
       "         [103],\n",
       "         [105],\n",
       "         [106],\n",
       "         [110],\n",
       "         [111],\n",
       "         [113],\n",
       "         [114],\n",
       "         [116],\n",
       "         [117],\n",
       "         [118],\n",
       "         [122],\n",
       "         [125],\n",
       "         [127],\n",
       "         [129],\n",
       "         [130],\n",
       "         [132]], device='cuda:0')}"
      ]
     },
     "execution_count": 239,
     "metadata": {},
     "output_type": "execute_result"
    }
   ],
   "source": [
    "whisper_results = q_dev_fns.evaluate_asr_system(torch.from_numpy(Q2_probs).to(device), Y, device, timit_words, filenames)\n",
    "whisper_results"
   ]
  },
  {
   "cell_type": "code",
   "execution_count": 240,
   "id": "ebae8492-505c-46a6-92d5-29f8e3e9e054",
   "metadata": {},
   "outputs": [
    {
     "name": "stdout",
     "output_type": "stream",
     "text": [
      "Mistmatch in: temp/-1/UNK_a2ff1f3a-5dd1-4313-a1b7-803863be1456.wav\n",
      "Q index expects: in\n",
      "Human labeled: UNK\n"
     ]
    },
    {
     "data": {
      "text/html": [
       "\n",
       "                <audio  controls=\"controls\" >\n",
       "                    <source src=\"data:audio/wav;base64,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\" type=\"audio/wav\" />\n",
       "                    Your browser does not support the audio element.\n",
       "                </audio>\n",
       "              "
      ],
      "text/plain": [
       "<IPython.lib.display.Audio object>"
      ]
     },
     "metadata": {},
     "output_type": "display_data"
    }
   ],
   "source": [
    "# inspect a single file\n",
    "q_dev_fns.inpsect_failure(whisper_results, 1)"
   ]
  },
  {
   "cell_type": "markdown",
   "id": "02474add-b001-4555-8423-9f892ddad431",
   "metadata": {},
   "source": [
    "# Todos"
   ]
  },
  {
   "cell_type": "code",
   "execution_count": 24,
   "id": "9c56854e-abad-406c-8e58-b502eae60ebd",
   "metadata": {},
   "outputs": [],
   "source": [
    "# [X] Error analysis -- which words is this bad at? Years and yours, remapping a lot of them to IN\n",
    "# [X] compare with the quality of the output of whisper -- whisper is never wrong about the identity, \n",
    "# but it over-assigns the UNKs. So maybe it isn't interevening early enough\n",
    "# [ ] Performance in the adult Q network is bad, but is it okay that it is this errorful?     \n",
    "   # [ ] Could figure out a way to train it on other intermediate productions -- eg use WHISPER \n",
    "    # to identify a bunch of intermediate and noisy candidates; then this netowrk will be fast\n",
    "\n",
    "# there should be no UNKs in this set\n",
    "\n",
    "    \n",
    "\n",
    "# [ ] could try fiddling with the params in whisper -- but this is too slow to operate from the beginning    \n",
    "# [ ] How to handle uncertainty in the Q network -- the recongition performance depends on how we pick out UNKs \n",
    "    # Entropy based cirterion\n",
    "    # give it a 12th category of UNK\n",
    "\n",
    "    \n",
    "    \n",
    "\n",
    "\n",
    "# [ ] This means we can do early intervention with the frozen Q network\n",
    "# [ ] THis means we might have a submission for the 28th\n",
    "# [ ] consider VAD"
   ]
  },
  {
   "cell_type": "markdown",
   "id": "c72cd195-1bcf-4337-85ad-20a90c8599eb",
   "metadata": {},
   "source": [
    "# Adding Unks to the Test Set"
   ]
  },
  {
   "cell_type": "code",
   "execution_count": 100,
   "id": "f87e85be-379c-4d82-b1a2-e91b991a21b0",
   "metadata": {},
   "outputs": [
    {
     "ename": "ValueError",
     "evalue": "Don't run this part automatically -- should jsut need to happen once",
     "output_type": "error",
     "traceback": [
      "\u001b[0;31m---------------------------------------------------------------------------\u001b[0m",
      "\u001b[0;31mValueError\u001b[0m                                Traceback (most recent call last)",
      "Cell \u001b[0;32mIn[100], line 1\u001b[0m\n\u001b[0;32m----> 1\u001b[0m \u001b[38;5;28;01mraise\u001b[39;00m \u001b[38;5;167;01mValueError\u001b[39;00m(\u001b[38;5;124m\"\u001b[39m\u001b[38;5;124mDon\u001b[39m\u001b[38;5;124m'\u001b[39m\u001b[38;5;124mt run this part automatically -- should jsut need to happen once\u001b[39m\u001b[38;5;124m\"\u001b[39m)\n",
      "\u001b[0;31mValueError\u001b[0m: Don't run this part automatically -- should jsut need to happen once"
     ]
    }
   ],
   "source": [
    "raise ValueError(\"Don't run this part automatically -- should jsut need to happen once\")"
   ]
  },
  {
   "cell_type": "code",
   "execution_count": 83,
   "id": "79aa0d3d-58c0-4e49-b32e-55c7c13c29c1",
   "metadata": {},
   "outputs": [
    {
     "data": {
      "text/html": [
       "<div>\n",
       "<style scoped>\n",
       "    .dataframe tbody tr th:only-of-type {\n",
       "        vertical-align: middle;\n",
       "    }\n",
       "\n",
       "    .dataframe tbody tr th {\n",
       "        vertical-align: top;\n",
       "    }\n",
       "\n",
       "    .dataframe thead th {\n",
       "        text-align: right;\n",
       "    }\n",
       "</style>\n",
       "<table border=\"1\" class=\"dataframe\">\n",
       "  <thead>\n",
       "    <tr style=\"text-align: right;\">\n",
       "      <th></th>\n",
       "      <th>filename</th>\n",
       "      <th>basename</th>\n",
       "      <th>uuid</th>\n",
       "      <th>word</th>\n",
       "      <th>keep</th>\n",
       "    </tr>\n",
       "  </thead>\n",
       "  <tbody>\n",
       "    <tr>\n",
       "      <th>0</th>\n",
       "      <td>/home/stephan/notebooks/ciwganfiwgan-pytorch/q...</td>\n",
       "      <td>suit_keep_0572dab6-eddc-4b9c-983e-7bc9b49c0ad5...</td>\n",
       "      <td>0572dab6-eddc-4b9c-983e-7bc9b49c0ad5</td>\n",
       "      <td>suit</td>\n",
       "      <td>True</td>\n",
       "    </tr>\n",
       "    <tr>\n",
       "      <th>1</th>\n",
       "      <td>/home/stephan/notebooks/ciwganfiwgan-pytorch/q...</td>\n",
       "      <td>greasy_730630d8-023e-4c73-8532-bef8c5fef47d.wav</td>\n",
       "      <td>730630d8-023e-4c73-8532-bef8c5fef47d</td>\n",
       "      <td>greasy</td>\n",
       "      <td>False</td>\n",
       "    </tr>\n",
       "    <tr>\n",
       "      <th>2</th>\n",
       "      <td>/home/stephan/notebooks/ciwganfiwgan-pytorch/q...</td>\n",
       "      <td>all_keep_88711fa2-d2bd-406b-b49f-4b11d5d5f185.wav</td>\n",
       "      <td>88711fa2-d2bd-406b-b49f-4b11d5d5f185</td>\n",
       "      <td>all</td>\n",
       "      <td>True</td>\n",
       "    </tr>\n",
       "    <tr>\n",
       "      <th>3</th>\n",
       "      <td>/home/stephan/notebooks/ciwganfiwgan-pytorch/q...</td>\n",
       "      <td>suit_keep_3d7d80cd-9a72-452c-b6c3-7e56c9f33cce...</td>\n",
       "      <td>3d7d80cd-9a72-452c-b6c3-7e56c9f33cce</td>\n",
       "      <td>suit</td>\n",
       "      <td>True</td>\n",
       "    </tr>\n",
       "    <tr>\n",
       "      <th>4</th>\n",
       "      <td>/home/stephan/notebooks/ciwganfiwgan-pytorch/q...</td>\n",
       "      <td>greasy_keep_4c10d97e-759b-4980-ba6b-665b3ac869...</td>\n",
       "      <td>4c10d97e-759b-4980-ba6b-665b3ac8692b</td>\n",
       "      <td>greasy</td>\n",
       "      <td>True</td>\n",
       "    </tr>\n",
       "    <tr>\n",
       "      <th>...</th>\n",
       "      <td>...</td>\n",
       "      <td>...</td>\n",
       "      <td>...</td>\n",
       "      <td>...</td>\n",
       "      <td>...</td>\n",
       "    </tr>\n",
       "    <tr>\n",
       "      <th>128</th>\n",
       "      <td>/home/stephan/notebooks/ciwganfiwgan-pytorch/q...</td>\n",
       "      <td>year_a14c7c7c-316f-40d8-9e16-664fd480fd40.wav</td>\n",
       "      <td>a14c7c7c-316f-40d8-9e16-664fd480fd40</td>\n",
       "      <td>year</td>\n",
       "      <td>False</td>\n",
       "    </tr>\n",
       "    <tr>\n",
       "      <th>129</th>\n",
       "      <td>/home/stephan/notebooks/ciwganfiwgan-pytorch/q...</td>\n",
       "      <td>all_cf294927-5a3d-488d-835a-64557c6bcc4b.wav</td>\n",
       "      <td>cf294927-5a3d-488d-835a-64557c6bcc4b</td>\n",
       "      <td>all</td>\n",
       "      <td>False</td>\n",
       "    </tr>\n",
       "    <tr>\n",
       "      <th>130</th>\n",
       "      <td>/home/stephan/notebooks/ciwganfiwgan-pytorch/q...</td>\n",
       "      <td>your_keep_c79ac64b-353b-499c-9a0e-7bc4d97052b1...</td>\n",
       "      <td>c79ac64b-353b-499c-9a0e-7bc4d97052b1</td>\n",
       "      <td>your</td>\n",
       "      <td>True</td>\n",
       "    </tr>\n",
       "    <tr>\n",
       "      <th>131</th>\n",
       "      <td>/home/stephan/notebooks/ciwganfiwgan-pytorch/q...</td>\n",
       "      <td>greasy_keep_22f26c9a-78fa-4f04-afb1-376480236d...</td>\n",
       "      <td>22f26c9a-78fa-4f04-afb1-376480236d5c</td>\n",
       "      <td>greasy</td>\n",
       "      <td>True</td>\n",
       "    </tr>\n",
       "    <tr>\n",
       "      <th>132</th>\n",
       "      <td>/home/stephan/notebooks/ciwganfiwgan-pytorch/q...</td>\n",
       "      <td>wash_6a273fce-5529-47ca-9c25-dd18d3c38ccc.wav</td>\n",
       "      <td>6a273fce-5529-47ca-9c25-dd18d3c38ccc</td>\n",
       "      <td>wash</td>\n",
       "      <td>False</td>\n",
       "    </tr>\n",
       "  </tbody>\n",
       "</table>\n",
       "<p>133 rows × 5 columns</p>\n",
       "</div>"
      ],
      "text/plain": [
       "                                              filename   \n",
       "0    /home/stephan/notebooks/ciwganfiwgan-pytorch/q...  \\\n",
       "1    /home/stephan/notebooks/ciwganfiwgan-pytorch/q...   \n",
       "2    /home/stephan/notebooks/ciwganfiwgan-pytorch/q...   \n",
       "3    /home/stephan/notebooks/ciwganfiwgan-pytorch/q...   \n",
       "4    /home/stephan/notebooks/ciwganfiwgan-pytorch/q...   \n",
       "..                                                 ...   \n",
       "128  /home/stephan/notebooks/ciwganfiwgan-pytorch/q...   \n",
       "129  /home/stephan/notebooks/ciwganfiwgan-pytorch/q...   \n",
       "130  /home/stephan/notebooks/ciwganfiwgan-pytorch/q...   \n",
       "131  /home/stephan/notebooks/ciwganfiwgan-pytorch/q...   \n",
       "132  /home/stephan/notebooks/ciwganfiwgan-pytorch/q...   \n",
       "\n",
       "                                              basename   \n",
       "0    suit_keep_0572dab6-eddc-4b9c-983e-7bc9b49c0ad5...  \\\n",
       "1      greasy_730630d8-023e-4c73-8532-bef8c5fef47d.wav   \n",
       "2    all_keep_88711fa2-d2bd-406b-b49f-4b11d5d5f185.wav   \n",
       "3    suit_keep_3d7d80cd-9a72-452c-b6c3-7e56c9f33cce...   \n",
       "4    greasy_keep_4c10d97e-759b-4980-ba6b-665b3ac869...   \n",
       "..                                                 ...   \n",
       "128      year_a14c7c7c-316f-40d8-9e16-664fd480fd40.wav   \n",
       "129       all_cf294927-5a3d-488d-835a-64557c6bcc4b.wav   \n",
       "130  your_keep_c79ac64b-353b-499c-9a0e-7bc4d97052b1...   \n",
       "131  greasy_keep_22f26c9a-78fa-4f04-afb1-376480236d...   \n",
       "132      wash_6a273fce-5529-47ca-9c25-dd18d3c38ccc.wav   \n",
       "\n",
       "                                     uuid    word   keep  \n",
       "0    0572dab6-eddc-4b9c-983e-7bc9b49c0ad5    suit   True  \n",
       "1    730630d8-023e-4c73-8532-bef8c5fef47d  greasy  False  \n",
       "2    88711fa2-d2bd-406b-b49f-4b11d5d5f185     all   True  \n",
       "3    3d7d80cd-9a72-452c-b6c3-7e56c9f33cce    suit   True  \n",
       "4    4c10d97e-759b-4980-ba6b-665b3ac8692b  greasy   True  \n",
       "..                                    ...     ...    ...  \n",
       "128  a14c7c7c-316f-40d8-9e16-664fd480fd40    year  False  \n",
       "129  cf294927-5a3d-488d-835a-64557c6bcc4b     all  False  \n",
       "130  c79ac64b-353b-499c-9a0e-7bc4d97052b1    your   True  \n",
       "131  22f26c9a-78fa-4f04-afb1-376480236d5c  greasy   True  \n",
       "132  6a273fce-5529-47ca-9c25-dd18d3c38ccc    wash  False  \n",
       "\n",
       "[133 rows x 5 columns]"
      ]
     },
     "execution_count": 83,
     "metadata": {},
     "output_type": "execute_result"
    }
   ],
   "source": [
    "wavs = pd.DataFrame({'filename': glob.glob('/home/stephan/notebooks/ciwganfiwgan-pytorch/q2_dev_data/2001_relabeled/*.wav')\n",
    "})\n",
    "wavs['basename'] = [os.path.basename(x) for x in wavs.filename]\n",
    "wavs['uuid'] = [x.replace('.wav','').split('_')[-1] for x in  wavs['basename']]\n",
    "wavs['word']= [x.replace('.wav','').split('_')[0] for x in  wavs['basename']]\n",
    "wavs['keep']= ['_keep_' in x for x in wavs['basename']]\n",
    "wavs"
   ]
  },
  {
   "cell_type": "code",
   "execution_count": 85,
   "id": "5b773b42-8d62-4f18-ac6a-fe7848c5fd34",
   "metadata": {},
   "outputs": [
    {
     "name": "stdout",
     "output_type": "stream",
     "text": [
      "(133, 5)\n",
      "(79, 5)\n",
      "(54, 5)\n"
     ]
    }
   ],
   "source": [
    "print(wavs.shape)\n",
    "keeps = wavs.loc[wavs.keep]\n",
    "print(keeps.shape)\n",
    "originals = wavs.loc[~wavs.keep]\n",
    "unks = originals.loc[~originals.uuid.isin(keeps.uuid)]\n",
    "print(unks.shape)"
   ]
  },
  {
   "cell_type": "code",
   "execution_count": 88,
   "id": "501de27b-ad66-4674-abd4-fff1a60b4a14",
   "metadata": {},
   "outputs": [
    {
     "data": {
      "text/html": [
       "<div>\n",
       "<style scoped>\n",
       "    .dataframe tbody tr th:only-of-type {\n",
       "        vertical-align: middle;\n",
       "    }\n",
       "\n",
       "    .dataframe tbody tr th {\n",
       "        vertical-align: top;\n",
       "    }\n",
       "\n",
       "    .dataframe thead th {\n",
       "        text-align: right;\n",
       "    }\n",
       "</style>\n",
       "<table border=\"1\" class=\"dataframe\">\n",
       "  <thead>\n",
       "    <tr style=\"text-align: right;\">\n",
       "      <th></th>\n",
       "      <th>filename</th>\n",
       "      <th>basename</th>\n",
       "      <th>uuid</th>\n",
       "      <th>word</th>\n",
       "      <th>keep</th>\n",
       "      <th>new_word</th>\n",
       "    </tr>\n",
       "  </thead>\n",
       "  <tbody>\n",
       "    <tr>\n",
       "      <th>1</th>\n",
       "      <td>/home/stephan/notebooks/ciwganfiwgan-pytorch/q...</td>\n",
       "      <td>greasy_730630d8-023e-4c73-8532-bef8c5fef47d.wav</td>\n",
       "      <td>730630d8-023e-4c73-8532-bef8c5fef47d</td>\n",
       "      <td>greasy</td>\n",
       "      <td>False</td>\n",
       "      <td>UNK</td>\n",
       "    </tr>\n",
       "    <tr>\n",
       "      <th>6</th>\n",
       "      <td>/home/stephan/notebooks/ciwganfiwgan-pytorch/q...</td>\n",
       "      <td>your_00b4884d-a984-4619-baf1-ad4498270f66.wav</td>\n",
       "      <td>00b4884d-a984-4619-baf1-ad4498270f66</td>\n",
       "      <td>your</td>\n",
       "      <td>False</td>\n",
       "      <td>UNK</td>\n",
       "    </tr>\n",
       "    <tr>\n",
       "      <th>10</th>\n",
       "      <td>/home/stephan/notebooks/ciwganfiwgan-pytorch/q...</td>\n",
       "      <td>she_b0615960-d724-4f41-8c1b-045cdb589709.wav</td>\n",
       "      <td>b0615960-d724-4f41-8c1b-045cdb589709</td>\n",
       "      <td>she</td>\n",
       "      <td>False</td>\n",
       "      <td>UNK</td>\n",
       "    </tr>\n",
       "    <tr>\n",
       "      <th>12</th>\n",
       "      <td>/home/stephan/notebooks/ciwganfiwgan-pytorch/q...</td>\n",
       "      <td>greasy_76593767-0265-4947-b88e-dffd1e6c7cef.wav</td>\n",
       "      <td>76593767-0265-4947-b88e-dffd1e6c7cef</td>\n",
       "      <td>greasy</td>\n",
       "      <td>False</td>\n",
       "      <td>UNK</td>\n",
       "    </tr>\n",
       "    <tr>\n",
       "      <th>13</th>\n",
       "      <td>/home/stephan/notebooks/ciwganfiwgan-pytorch/q...</td>\n",
       "      <td>year_2ec52e94-fce8-44ad-ba64-9b4cc24920df.wav</td>\n",
       "      <td>2ec52e94-fce8-44ad-ba64-9b4cc24920df</td>\n",
       "      <td>year</td>\n",
       "      <td>False</td>\n",
       "      <td>UNK</td>\n",
       "    </tr>\n",
       "  </tbody>\n",
       "</table>\n",
       "</div>"
      ],
      "text/plain": [
       "                                             filename   \n",
       "1   /home/stephan/notebooks/ciwganfiwgan-pytorch/q...  \\\n",
       "6   /home/stephan/notebooks/ciwganfiwgan-pytorch/q...   \n",
       "10  /home/stephan/notebooks/ciwganfiwgan-pytorch/q...   \n",
       "12  /home/stephan/notebooks/ciwganfiwgan-pytorch/q...   \n",
       "13  /home/stephan/notebooks/ciwganfiwgan-pytorch/q...   \n",
       "\n",
       "                                           basename   \n",
       "1   greasy_730630d8-023e-4c73-8532-bef8c5fef47d.wav  \\\n",
       "6     your_00b4884d-a984-4619-baf1-ad4498270f66.wav   \n",
       "10     she_b0615960-d724-4f41-8c1b-045cdb589709.wav   \n",
       "12  greasy_76593767-0265-4947-b88e-dffd1e6c7cef.wav   \n",
       "13    year_2ec52e94-fce8-44ad-ba64-9b4cc24920df.wav   \n",
       "\n",
       "                                    uuid    word   keep new_word  \n",
       "1   730630d8-023e-4c73-8532-bef8c5fef47d  greasy  False      UNK  \n",
       "6   00b4884d-a984-4619-baf1-ad4498270f66    your  False      UNK  \n",
       "10  b0615960-d724-4f41-8c1b-045cdb589709     she  False      UNK  \n",
       "12  76593767-0265-4947-b88e-dffd1e6c7cef  greasy  False      UNK  \n",
       "13  2ec52e94-fce8-44ad-ba64-9b4cc24920df    year  False      UNK  "
      ]
     },
     "execution_count": 88,
     "metadata": {},
     "output_type": "execute_result"
    }
   ],
   "source": [
    "unks.head(5)"
   ]
  },
  {
   "cell_type": "code",
   "execution_count": 98,
   "id": "4489b3d1-a817-4ed2-b30c-e9cac9f5f91b",
   "metadata": {},
   "outputs": [],
   "source": [
    "import shutil"
   ]
  },
  {
   "cell_type": "code",
   "execution_count": 99,
   "id": "0f22e7f6-d266-477c-8817-5fb1fa632deb",
   "metadata": {},
   "outputs": [
    {
     "data": {
      "text/plain": [
       "[None,\n",
       " None,\n",
       " None,\n",
       " None,\n",
       " None,\n",
       " None,\n",
       " None,\n",
       " None,\n",
       " None,\n",
       " None,\n",
       " None,\n",
       " None,\n",
       " None,\n",
       " None,\n",
       " None,\n",
       " None,\n",
       " None,\n",
       " None,\n",
       " None,\n",
       " None,\n",
       " None,\n",
       " None,\n",
       " None,\n",
       " None,\n",
       " None,\n",
       " None,\n",
       " None,\n",
       " None,\n",
       " None,\n",
       " None,\n",
       " None,\n",
       " None,\n",
       " None,\n",
       " None,\n",
       " None,\n",
       " None,\n",
       " None,\n",
       " None,\n",
       " None,\n",
       " None,\n",
       " None,\n",
       " None,\n",
       " None,\n",
       " None,\n",
       " None,\n",
       " None,\n",
       " None,\n",
       " None,\n",
       " None,\n",
       " None,\n",
       " None,\n",
       " None,\n",
       " None,\n",
       " None]"
      ]
     },
     "execution_count": 99,
     "metadata": {},
     "output_type": "execute_result"
    }
   ],
   "source": [
    "# rename the UNKS as such\n",
    "unks['new_word'] = 'UNK'\n",
    "unks['new_basename'] = unks['new_word'].map(str)+'_keep_'+unks['uuid'].map(str)+'.wav'\n",
    "directory = os.path.dirname(unks.iloc[0]['filename'])\n",
    "unks['new_filename'] = [os.path.join(directory, x) for x in  unks['new_basename']]\n",
    "unks.iloc[0].new_filename\n",
    "\n",
    "[os.rename(x['filename'], x['new_filename']) for x in unks.to_dict('records')] "
   ]
  },
  {
   "cell_type": "code",
   "execution_count": 77,
   "id": "211f44f3-019d-4be6-8dcd-109cbb19a834",
   "metadata": {},
   "outputs": [],
   "source": [
    "# delete the ontes that ar in keeps\n",
    "redundant_files= originals.loc[originals.uuid.isin(keeps.uuid)]"
   ]
  },
  {
   "cell_type": "code",
   "execution_count": 80,
   "id": "78f1fe4c-7729-42d5-be7e-e0ff08bbcf33",
   "metadata": {},
   "outputs": [
    {
     "data": {
      "text/plain": [
       "0      /home/stephan/notebooks/ciwganfiwgan-pytorch/q...\n",
       "1      /home/stephan/notebooks/ciwganfiwgan-pytorch/q...\n",
       "5      /home/stephan/notebooks/ciwganfiwgan-pytorch/q...\n",
       "9      /home/stephan/notebooks/ciwganfiwgan-pytorch/q...\n",
       "12     /home/stephan/notebooks/ciwganfiwgan-pytorch/q...\n",
       "                             ...                        \n",
       "189    /home/stephan/notebooks/ciwganfiwgan-pytorch/q...\n",
       "193    /home/stephan/notebooks/ciwganfiwgan-pytorch/q...\n",
       "196    /home/stephan/notebooks/ciwganfiwgan-pytorch/q...\n",
       "201    /home/stephan/notebooks/ciwganfiwgan-pytorch/q...\n",
       "209    /home/stephan/notebooks/ciwganfiwgan-pytorch/q...\n",
       "Name: filename, Length: 79, dtype: object"
      ]
     },
     "execution_count": 80,
     "metadata": {},
     "output_type": "execute_result"
    }
   ],
   "source": [
    "redundant_files.filename"
   ]
  },
  {
   "cell_type": "code",
   "execution_count": 81,
   "id": "5d3c2bd9-0e9d-4fb2-bdc3-052ebdadbcf6",
   "metadata": {},
   "outputs": [
    {
     "data": {
      "text/plain": [
       "[None,\n",
       " None,\n",
       " None,\n",
       " None,\n",
       " None,\n",
       " None,\n",
       " None,\n",
       " None,\n",
       " None,\n",
       " None,\n",
       " None,\n",
       " None,\n",
       " None,\n",
       " None,\n",
       " None,\n",
       " None,\n",
       " None,\n",
       " None,\n",
       " None,\n",
       " None,\n",
       " None,\n",
       " None,\n",
       " None,\n",
       " None,\n",
       " None,\n",
       " None,\n",
       " None,\n",
       " None,\n",
       " None,\n",
       " None,\n",
       " None,\n",
       " None,\n",
       " None,\n",
       " None,\n",
       " None,\n",
       " None,\n",
       " None,\n",
       " None,\n",
       " None,\n",
       " None,\n",
       " None,\n",
       " None,\n",
       " None,\n",
       " None,\n",
       " None,\n",
       " None,\n",
       " None,\n",
       " None,\n",
       " None,\n",
       " None,\n",
       " None,\n",
       " None,\n",
       " None,\n",
       " None,\n",
       " None,\n",
       " None,\n",
       " None,\n",
       " None,\n",
       " None,\n",
       " None,\n",
       " None,\n",
       " None,\n",
       " None,\n",
       " None,\n",
       " None,\n",
       " None,\n",
       " None,\n",
       " None,\n",
       " None,\n",
       " None,\n",
       " None,\n",
       " None,\n",
       " None,\n",
       " None,\n",
       " None,\n",
       " None,\n",
       " None,\n",
       " None,\n",
       " None]"
      ]
     },
     "execution_count": 81,
     "metadata": {},
     "output_type": "execute_result"
    }
   ],
   "source": [
    "[os.remove(x) for x in redundant_files.filename]"
   ]
  }
 ],
 "metadata": {
  "kernelspec": {
   "display_name": "gasper-gan",
   "language": "python",
   "name": "gasper-gan"
  },
  "language_info": {
   "codemirror_mode": {
    "name": "ipython",
    "version": 3
   },
   "file_extension": ".py",
   "mimetype": "text/x-python",
   "name": "python",
   "nbconvert_exporter": "python",
   "pygments_lexer": "ipython3",
   "version": "3.8.10"
  }
 },
 "nbformat": 4,
 "nbformat_minor": 5
}

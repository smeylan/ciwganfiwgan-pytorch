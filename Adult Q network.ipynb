{
 "cells": [
  {
   "cell_type": "code",
   "execution_count": 1,
   "id": "4bde96ac-d568-482b-90ad-6ee117655e7a",
   "metadata": {},
   "outputs": [],
   "source": [
    "import torch\n",
    "import torch.optim as optim\n",
    "import numpy as np\n",
    "import pandas as pd\n",
    "from tqdm import tqdm\n",
    "from infowavegan import WaveGANQNetwork\n",
    "from torch.utils.data import DataLoader\n",
    "import glob\n",
    "import os\n",
    "from scipy.io.wavfile import read\n",
    "import librosa\n",
    "from IPython.display import Audio, display\n",
    "import train_Q2_TD\n",
    "import q_dev_fns"
   ]
  },
  {
   "cell_type": "code",
   "execution_count": 2,
   "id": "abfd11a6-e127-4a26-b9e3-6aa00e014523",
   "metadata": {},
   "outputs": [],
   "source": [
    "NUM_CATEG = 11\n",
    "SLICE_LEN = 16384\n",
    "device=\"cuda\"\n",
    "LEARNING_RATE = 1e-4\n",
    "timit_words = \"she had your suit in dark greasy wash water all year\".split(' ')+['UNK']\n",
    "datadir = \"/home/stephan/notebooks/talker_variability/TIMIT_padded/\"\n",
    "BATCH_SIZE = 192\n",
    "start_epoch = 0\n",
    "start_step = 0\n",
    "NUM_EPOCHS = 25"
   ]
  },
  {
   "cell_type": "code",
   "execution_count": 3,
   "id": "59f4ad13-dd6e-4097-98f3-f39f056d81c1",
   "metadata": {},
   "outputs": [],
   "source": [
    "Q = WaveGANQNetwork(slice_len=SLICE_LEN, num_categ=NUM_CATEG).to(device).train()\n",
    "optimizer_Q_to_Q = optim.RMSprop(Q.parameters(), lr=LEARNING_RATE)\n",
    "criterion_Q = lambda inpt, target: torch.nn.CrossEntropyLoss()(inpt, target.max(dim=1)[1])"
   ]
  },
  {
   "cell_type": "code",
   "execution_count": 4,
   "id": "da9f9336-059f-4bf3-9fac-57c672e497df",
   "metadata": {},
   "outputs": [
    {
     "name": "stdout",
     "output_type": "stream",
     "text": [
      "Loading data\n"
     ]
    },
    {
     "name": "stderr",
     "output_type": "stream",
     "text": [
      "100%|██████████| 5082/5082 [00:01<00:00, 3961.78it/s]\n"
     ]
    }
   ],
   "source": [
    "# start a dataloader with the Q network\n",
    "dataset = train_Q2_TD.AudioDataSet(datadir, SLICE_LEN, NUM_CATEG, timit_words)\n",
    "dataloader = DataLoader(\n",
    "    dataset,\n",
    "    BATCH_SIZE,\n",
    "    shuffle=True,\n",
    "    num_workers=1,\n",
    "    drop_last=True\n",
    ")"
   ]
  },
  {
   "cell_type": "code",
   "execution_count": 5,
   "id": "fab94a9c-7b3f-49ea-bfb8-dccc16b47904",
   "metadata": {},
   "outputs": [],
   "source": [
    "regenerate = False\n",
    "if regenerate:\n",
    "    step = start_step\n",
    "    for epoch in range(start_epoch + 1, NUM_EPOCHS):\n",
    "        print(\"Epoch {} of {}\".format(epoch, NUM_EPOCHS))\n",
    "        print(\"-----------------------------------------\")\n",
    "\n",
    "        pbar = tqdm(dataloader)            \n",
    "        for i, trial in enumerate(pbar):            \n",
    "            reals = trial[0].to(device)\n",
    "            labels = trial[1].to(device)        \n",
    "            optimizer_Q_to_Q.zero_grad()\n",
    "            adult_recovers_from_adult = Q(reals)    \n",
    "            Q_comprehension_loss = criterion_Q(adult_recovers_from_adult, labels[:,0:NUM_CATEG]) # Note we exclude the UNK label --  child never intends to produce unk\n",
    "            print(Q_comprehension_loss)\n",
    "            Q_comprehension_loss.backward()\n",
    "            optimizer_Q_to_Q.step()\n",
    "            step += 1\n",
    "    torch.save(Q, 'saved_networks/adult_pretrained_Q_network.torch')\n",
    "else:\n",
    "    Q = torch.load('saved_networks/adult_pretrained_Q_network.torch')\n",
    "    Q.eval()\n",
    "    \n",
    "# freeze it\n",
    "for p in Q.parameters():\n",
    "    p.requires_grad = True"
   ]
  },
  {
   "cell_type": "markdown",
   "id": "aface392-2c57-4e5d-a380-e75c5b309c33",
   "metadata": {},
   "source": [
    "# Run the Adult Q network on a new dataset"
   ]
  },
  {
   "cell_type": "code",
   "execution_count": null,
   "id": "dd0ba094-cf94-45c1-8312-5a6f12cc4fbf",
   "metadata": {},
   "outputs": [],
   "source": [
    "# Directory from a network that hasn't elarned the word-to-referent mapping\n",
    "test_folder = '/home/stephan/notebooks/ciwganfiwgan-pytorch/run_log/12_TD_2000+_batchedQupdate/2001/'\n",
    "X, Y, filenames  = q_dev_fns.load_wavs_and_labels(test_folder, SLICE_LEN, NUM_CATEG, device, timit_words)\n",
    "Q_vals = torch.nn.Softmax(dim=1)(Q(X))"
   ]
  },
  {
   "cell_type": "code",
   "execution_count": null,
   "id": "24f53864-54e3-4f33-b066-992471bc06f6",
   "metadata": {},
   "outputs": [],
   "source": [
    "q_dev_fns.evaluate_asr_system(Q_vals, Y, device, timit_words, filenames)"
   ]
  },
  {
   "cell_type": "code",
   "execution_count": 6,
   "id": "b12119bf-3e4b-46ad-82cb-a56800fcb106",
   "metadata": {},
   "outputs": [
    {
     "name": "stderr",
     "output_type": "stream",
     "text": [
      "100%|██████████| 133/133 [00:00<00:00, 1504.81it/s]\n"
     ]
    }
   ],
   "source": [
    "# Directory with hand-labeled data\n",
    "test_folder = '/home/stephan/notebooks/ciwganfiwgan-pytorch/q2_dev_data/2001_relabeled/'\n",
    "X, Y, filenames  = q_dev_fns.load_wavs_and_labels(test_folder, SLICE_LEN, NUM_CATEG, device, timit_words)\n",
    "Q_vals = torch.nn.Softmax(dim=1)(Q(X))"
   ]
  },
  {
   "cell_type": "code",
   "execution_count": 7,
   "id": "c20c89c5-3324-4cef-8a23-2425f27a253f",
   "metadata": {},
   "outputs": [
    {
     "data": {
      "text/plain": [
       "torch.Size([133, 11])"
      ]
     },
     "execution_count": 7,
     "metadata": {},
     "output_type": "execute_result"
    }
   ],
   "source": [
    "Q_vals.shape"
   ]
  },
  {
   "cell_type": "code",
   "execution_count": 8,
   "id": "b5749557-489f-46b3-9bae-5fc96227851a",
   "metadata": {},
   "outputs": [
    {
     "name": "stderr",
     "output_type": "stream",
     "text": [
      "/tmp/ipykernel_3356433/1249997383.py:1: DeprecationWarning: the imp module is deprecated in favour of importlib; see the module's documentation for alternative uses\n",
      "  import imp\n"
     ]
    }
   ],
   "source": [
    "import imp\n",
    "imp.reload(q_dev_fns)\n",
    "Q_vals_with_unks = q_dev_fns.mark_unks_in_Q(Q_vals, .1, device)"
   ]
  },
  {
   "cell_type": "code",
   "execution_count": 9,
   "id": "efe80a2c-8d9f-421d-8f07-5e787617d6c1",
   "metadata": {},
   "outputs": [
    {
     "data": {
      "text/plain": [
       "{'df':     human label asr system label  matches   \n",
       " 0          suit             suit     True  \\\n",
       " 1           UNK             your    False   \n",
       " 2           UNK              UNK     True   \n",
       " 3           all              all     True   \n",
       " 4           UNK              UNK     True   \n",
       " ..          ...              ...      ...   \n",
       " 128         UNK              all    False   \n",
       " 129        your             your     True   \n",
       " 130        your              UNK    False   \n",
       " 131      greasy           greasy     True   \n",
       " 132         UNK              all    False   \n",
       " \n",
       "                                              filenames   entropy  recognized  \n",
       " 0    /home/stephan/notebooks/ciwganfiwgan-pytorch/q...  0.000931        True  \n",
       " 1    /home/stephan/notebooks/ciwganfiwgan-pytorch/q...  0.019612       False  \n",
       " 2    /home/stephan/notebooks/ciwganfiwgan-pytorch/q...  0.010132        True  \n",
       " 3    /home/stephan/notebooks/ciwganfiwgan-pytorch/q...  0.006908        True  \n",
       " 4    /home/stephan/notebooks/ciwganfiwgan-pytorch/q...  0.010132        True  \n",
       " ..                                                 ...       ...         ...  \n",
       " 128  /home/stephan/notebooks/ciwganfiwgan-pytorch/q...  0.095194       False  \n",
       " 129  /home/stephan/notebooks/ciwganfiwgan-pytorch/q...  0.007009        True  \n",
       " 130  /home/stephan/notebooks/ciwganfiwgan-pytorch/q...  0.010132       False  \n",
       " 131  /home/stephan/notebooks/ciwganfiwgan-pytorch/q...  0.001251        True  \n",
       " 132  /home/stephan/notebooks/ciwganfiwgan-pytorch/q...  0.001046       False  \n",
       " \n",
       " [133 rows x 6 columns],\n",
       " 'incorrect':     human label asr system label  matches   \n",
       " 1           UNK             your    False  \\\n",
       " 7          your              UNK    False   \n",
       " 8           had              UNK    False   \n",
       " 14          UNK              had    False   \n",
       " 18          UNK              had    False   \n",
       " 19          had              UNK    False   \n",
       " 24          UNK             wash    False   \n",
       " 26         your              UNK    False   \n",
       " 28          UNK            water    False   \n",
       " 31          all              had    False   \n",
       " 33         year              UNK    False   \n",
       " 36       greasy              UNK    False   \n",
       " 37          UNK             your    False   \n",
       " 38          had              UNK    False   \n",
       " 42          she              UNK    False   \n",
       " 44          UNK              all    False   \n",
       " 45        water             wash    False   \n",
       " 46         year              UNK    False   \n",
       " 49          UNK              all    False   \n",
       " 51          UNK             year    False   \n",
       " 55         year              UNK    False   \n",
       " 60          UNK             year    False   \n",
       " 67          UNK             dark    False   \n",
       " 69         suit              UNK    False   \n",
       " 70          UNK              all    False   \n",
       " 76          UNK            water    False   \n",
       " 77          UNK             dark    False   \n",
       " 82          had              UNK    False   \n",
       " 84          UNK              all    False   \n",
       " 91          UNK              all    False   \n",
       " 95          had              UNK    False   \n",
       " 102         UNK              had    False   \n",
       " 103       water              UNK    False   \n",
       " 108         UNK             dark    False   \n",
       " 110       water             wash    False   \n",
       " 111         UNK               in    False   \n",
       " 113         UNK              she    False   \n",
       " 116        wash              UNK    False   \n",
       " 122       water             wash    False   \n",
       " 124         UNK               in    False   \n",
       " 125        your              UNK    False   \n",
       " 127        your               in    False   \n",
       " 128         UNK              all    False   \n",
       " 130        your              UNK    False   \n",
       " 132         UNK              all    False   \n",
       " \n",
       "                                              filenames   entropy  recognized  \n",
       " 1    /home/stephan/notebooks/ciwganfiwgan-pytorch/q...  0.019612       False  \n",
       " 7    /home/stephan/notebooks/ciwganfiwgan-pytorch/q...  0.010132       False  \n",
       " 8    /home/stephan/notebooks/ciwganfiwgan-pytorch/q...  0.010132       False  \n",
       " 14   /home/stephan/notebooks/ciwganfiwgan-pytorch/q...  0.056308       False  \n",
       " 18   /home/stephan/notebooks/ciwganfiwgan-pytorch/q...  0.090584       False  \n",
       " 19   /home/stephan/notebooks/ciwganfiwgan-pytorch/q...  0.010132       False  \n",
       " 24   /home/stephan/notebooks/ciwganfiwgan-pytorch/q...  0.062367       False  \n",
       " 26   /home/stephan/notebooks/ciwganfiwgan-pytorch/q...  0.010132       False  \n",
       " 28   /home/stephan/notebooks/ciwganfiwgan-pytorch/q...  0.064238       False  \n",
       " 31   /home/stephan/notebooks/ciwganfiwgan-pytorch/q...  0.015449       False  \n",
       " 33   /home/stephan/notebooks/ciwganfiwgan-pytorch/q...  0.010132       False  \n",
       " 36   /home/stephan/notebooks/ciwganfiwgan-pytorch/q...  0.010132       False  \n",
       " 37   /home/stephan/notebooks/ciwganfiwgan-pytorch/q...  0.018179       False  \n",
       " 38   /home/stephan/notebooks/ciwganfiwgan-pytorch/q...  0.010132       False  \n",
       " 42   /home/stephan/notebooks/ciwganfiwgan-pytorch/q...  0.010132       False  \n",
       " 44   /home/stephan/notebooks/ciwganfiwgan-pytorch/q...  0.013384       False  \n",
       " 45   /home/stephan/notebooks/ciwganfiwgan-pytorch/q...  0.018031       False  \n",
       " 46   /home/stephan/notebooks/ciwganfiwgan-pytorch/q...  0.010132       False  \n",
       " 49   /home/stephan/notebooks/ciwganfiwgan-pytorch/q...  0.013717       False  \n",
       " 51   /home/stephan/notebooks/ciwganfiwgan-pytorch/q...  0.001415       False  \n",
       " 55   /home/stephan/notebooks/ciwganfiwgan-pytorch/q...  0.010132       False  \n",
       " 60   /home/stephan/notebooks/ciwganfiwgan-pytorch/q...  0.000925       False  \n",
       " 67   /home/stephan/notebooks/ciwganfiwgan-pytorch/q...  0.072046       False  \n",
       " 69   /home/stephan/notebooks/ciwganfiwgan-pytorch/q...  0.010132       False  \n",
       " 70   /home/stephan/notebooks/ciwganfiwgan-pytorch/q...  0.021744       False  \n",
       " 76   /home/stephan/notebooks/ciwganfiwgan-pytorch/q...  0.020916       False  \n",
       " 77   /home/stephan/notebooks/ciwganfiwgan-pytorch/q...  0.059346       False  \n",
       " 82   /home/stephan/notebooks/ciwganfiwgan-pytorch/q...  0.010132       False  \n",
       " 84   /home/stephan/notebooks/ciwganfiwgan-pytorch/q...  0.000997       False  \n",
       " 91   /home/stephan/notebooks/ciwganfiwgan-pytorch/q...  0.002147       False  \n",
       " 95   /home/stephan/notebooks/ciwganfiwgan-pytorch/q...  0.010132       False  \n",
       " 102  /home/stephan/notebooks/ciwganfiwgan-pytorch/q...  0.018769       False  \n",
       " 103  /home/stephan/notebooks/ciwganfiwgan-pytorch/q...  0.010132       False  \n",
       " 108  /home/stephan/notebooks/ciwganfiwgan-pytorch/q...  0.010734       False  \n",
       " 110  /home/stephan/notebooks/ciwganfiwgan-pytorch/q...  0.016379       False  \n",
       " 111  /home/stephan/notebooks/ciwganfiwgan-pytorch/q...  0.005109       False  \n",
       " 113  /home/stephan/notebooks/ciwganfiwgan-pytorch/q...  0.048826       False  \n",
       " 116  /home/stephan/notebooks/ciwganfiwgan-pytorch/q...  0.010132       False  \n",
       " 122  /home/stephan/notebooks/ciwganfiwgan-pytorch/q...  0.030432       False  \n",
       " 124  /home/stephan/notebooks/ciwganfiwgan-pytorch/q...  0.003087       False  \n",
       " 125  /home/stephan/notebooks/ciwganfiwgan-pytorch/q...  0.010132       False  \n",
       " 127  /home/stephan/notebooks/ciwganfiwgan-pytorch/q...  0.004790       False  \n",
       " 128  /home/stephan/notebooks/ciwganfiwgan-pytorch/q...  0.095194       False  \n",
       " 130  /home/stephan/notebooks/ciwganfiwgan-pytorch/q...  0.010132       False  \n",
       " 132  /home/stephan/notebooks/ciwganfiwgan-pytorch/q...  0.001046       False  ,\n",
       " 'full_performance': 0.6616541353383458,\n",
       " 'unk_precision': 0.6458333333333334,\n",
       " 'unk_recall': 0.5740740740740741,\n",
       " 'word_rec_performance': 0.6705882352941176,\n",
       " 'failures': tensor([[  1],\n",
       "         [  7],\n",
       "         [  8],\n",
       "         [ 14],\n",
       "         [ 18],\n",
       "         [ 19],\n",
       "         [ 24],\n",
       "         [ 26],\n",
       "         [ 28],\n",
       "         [ 31],\n",
       "         [ 33],\n",
       "         [ 36],\n",
       "         [ 37],\n",
       "         [ 38],\n",
       "         [ 42],\n",
       "         [ 44],\n",
       "         [ 45],\n",
       "         [ 46],\n",
       "         [ 49],\n",
       "         [ 51],\n",
       "         [ 55],\n",
       "         [ 60],\n",
       "         [ 67],\n",
       "         [ 69],\n",
       "         [ 70],\n",
       "         [ 76],\n",
       "         [ 77],\n",
       "         [ 82],\n",
       "         [ 84],\n",
       "         [ 91],\n",
       "         [ 95],\n",
       "         [102],\n",
       "         [103],\n",
       "         [108],\n",
       "         [110],\n",
       "         [111],\n",
       "         [113],\n",
       "         [116],\n",
       "         [122],\n",
       "         [124],\n",
       "         [125],\n",
       "         [127],\n",
       "         [128],\n",
       "         [130],\n",
       "         [132]], device='cuda:0')}"
      ]
     },
     "execution_count": 9,
     "metadata": {},
     "output_type": "execute_result"
    }
   ],
   "source": [
    "Qnetwork_results = q_dev_fns.evaluate_asr_system(Q_vals_with_unks, Y, device, timit_words, filenames)\n",
    "Qnetwork_results"
   ]
  },
  {
   "cell_type": "markdown",
   "id": "0c32e71e-7a8a-4033-bdb3-65b017ab5132",
   "metadata": {},
   "source": [
    "# Entropy Threshold"
   ]
  },
  {
   "cell_type": "code",
   "execution_count": null,
   "id": "27aea9de-05ec-4272-84dd-60c46940db2c",
   "metadata": {},
   "outputs": [],
   "source": [
    "%reload_ext rpy2.ipython\n",
    "%R library('ggplot2')\n",
    "%R library('pROC')"
   ]
  },
  {
   "cell_type": "code",
   "execution_count": null,
   "id": "53de9f3c-9215-45cf-ac31-3dffa8d30efb",
   "metadata": {},
   "outputs": [],
   "source": [
    "qnr =  Qnetwork_results['df']\n",
    "%R -i qnr\n",
    "%R head(qnr)"
   ]
  },
  {
   "cell_type": "code",
   "execution_count": null,
   "id": "4ec59023-9f70-4ecf-b128-fad4c52f8e7f",
   "metadata": {},
   "outputs": [],
   "source": [
    "%%R\n",
    "ggplot(qnr) + geom_density(aes(x=entropy, color = recognized))"
   ]
  },
  {
   "cell_type": "code",
   "execution_count": null,
   "id": "0029ec1c-0d0d-4ae8-a7fa-b5c39acfcfeb",
   "metadata": {},
   "outputs": [],
   "source": [
    "%%R\n",
    "library('plotROC')"
   ]
  },
  {
   "cell_type": "code",
   "execution_count": null,
   "id": "ba6449e3-cb30-4583-a41d-ef5a64396f6d",
   "metadata": {},
   "outputs": [],
   "source": [
    "%%R\n",
    "ggplot(qnr, aes(m = entropy, d = -1*recognized)) + geom_roc()"
   ]
  },
  {
   "cell_type": "markdown",
   "id": "2960af02-0e8d-41a4-9f22-7c07d18a2c18",
   "metadata": {},
   "source": [
    "# Error analysis on the Q network failures"
   ]
  },
  {
   "cell_type": "code",
   "execution_count": null,
   "id": "28054292-cbfc-46fb-834a-8dd379525ecf",
   "metadata": {},
   "outputs": [],
   "source": [
    "# inspect a single file\n",
    "q_dev_fns.inpsect_failure(Qnetwork_results, 1)"
   ]
  },
  {
   "cell_type": "markdown",
   "id": "e04ca369-c63e-4f21-befe-d7dea71c3ad1",
   "metadata": {},
   "source": [
    "4, Q network is just wrong  \n",
    "5, Q network is wrong, but it's ambiguous  \n",
    "13, in vs. your -- similar production to #4  \n",
    "16, Q network is wrong  \n",
    "17, Q network is just wrong  \n",
    "20, Q network is just wrong  \n",
    "26, Q network is just wrong  \n",
    "27, ambigous -- year and in at the same time  \n",
    "31, Q network is wrong  \n",
    "44, Q network is wrong   \n",
    "49, Q netwrok is wrong  \n",
    "66, Q netwrok is wrong, but slightly weird water   \n",
    "74, Q netwrok is wrong, but slightly weird water   \n",
    "76, ambiguous between year and in  \n",
    "78, Q netwrok is wrong  "
   ]
  },
  {
   "cell_type": "markdown",
   "id": "b3417847-a9bd-4f9e-a393-e9fbef1e3f2b",
   "metadata": {},
   "source": [
    "# Error Analysis on the Whisper Failures"
   ]
  },
  {
   "cell_type": "code",
   "execution_count": null,
   "id": "082be99d-5846-4718-822e-1ca75e651194",
   "metadata": {},
   "outputs": [],
   "source": [
    "import imp\n",
    "imp.reload(train_Q2_TD)"
   ]
  },
  {
   "cell_type": "code",
   "execution_count": null,
   "id": "6b106bae-3c3a-43ee-b3a9-4b4cad260873",
   "metadata": {},
   "outputs": [],
   "source": [
    "import faster_whisper\n",
    "vocab = pd.read_csv('data/vocab.csv')\n",
    "vocab = vocab.loc[vocab['count'] > 20]\n",
    "\n",
    "# Method 1: upweight proportionately\n",
    "#vocab.loc[vocab.word.isin(timit_words),'count'] = 100000. * vocab.loc[vocab.word.isin(timit_words)]['count']\n",
    "#vocab['probability'] = vocab['count'] / np.sum(vocab['count'])\n",
    "\n",
    "# Method 2: uniform over timit words, with remaining words divided\n",
    "prob_to_give_to_timit_words = .8\n",
    "vocab['upweighted_prob'] = 0\n",
    "vocab.loc[vocab.word.isin(timit_words) ,'upweighted_prob'] = prob_to_give_to_timit_words / len(timit_words)\n",
    "vocab['base_probability'] = (vocab['count'] / np.sum(vocab['count'])) * (1. - prob_to_give_to_timit_words)\n",
    "vocab['probability'] = vocab['base_probability'] + vocab['upweighted_prob']\n",
    "\n",
    "\n",
    "vocab.word = vocab.word.astype('str')\n",
    "fast_whisper_model = faster_whisper.WhisperModel('medium.en', device=\"cuda\", compute_type=\"float16\")\n",
    "Q2_GLOBALS = {\n",
    "        \"MIN_DECODING_PROB\" : .1,\n",
    "        \"MAX_NOSPEECH_PROB\" : .1,\n",
    "        \"MAX_UNK_PROB\" : .5, # this was .2\n",
    "        \"Q2_TIMEOUT\" : 2\n",
    "    }"
   ]
  },
  {
   "cell_type": "code",
   "execution_count": null,
   "id": "7f90754a-0416-4d90-90de-a5341d3de4f0",
   "metadata": {},
   "outputs": [],
   "source": [
    "vocab.loc[vocab.word == 'greasy']"
   ]
  },
  {
   "cell_type": "code",
   "execution_count": null,
   "id": "258873c2-bc4d-4e5d-b77c-17bfa6815cef",
   "metadata": {},
   "outputs": [],
   "source": [
    "indices_of_recognized_words, Q2_probs, filenames, whisper_recognition_info = train_Q2_TD.Q2_whisper(\n",
    "    X[:,0,:], Y, fast_whisper_model, timit_words, vocab, -1, Q2_GLOBALS, write_only=False)"
   ]
  },
  {
   "cell_type": "code",
   "execution_count": null,
   "id": "6196a114-ebb4-4a28-bbb7-9fb8a185b4d4",
   "metadata": {},
   "outputs": [],
   "source": [
    "whisper_results = q_dev_fns.evaluate_asr_system(torch.from_numpy(Q2_probs).to(device), Y, device, timit_words, filenames)\n",
    "whisper_results"
   ]
  },
  {
   "cell_type": "code",
   "execution_count": null,
   "id": "ebae8492-505c-46a6-92d5-29f8e3e9e054",
   "metadata": {},
   "outputs": [],
   "source": [
    "# inspect a single file\n",
    "q_dev_fns.inpsect_failure(whisper_results, 1)"
   ]
  },
  {
   "cell_type": "markdown",
   "id": "02474add-b001-4555-8423-9f892ddad431",
   "metadata": {},
   "source": [
    "# Todos"
   ]
  },
  {
   "cell_type": "code",
   "execution_count": null,
   "id": "9c56854e-abad-406c-8e58-b502eae60ebd",
   "metadata": {},
   "outputs": [],
   "source": [
    "# [X] Error analysis -- which words is this bad at? Years and yours, remapping a lot of them to IN\n",
    "# [X] compare with the quality of the output of whisper -- whisper is never wrong about the identity, \n",
    "# but it over-assigns the UNKs. So maybe it isn't interevening early enough\n",
    "# [ ] Performance in the adult Q network is bad, but is it okay that it is this errorful?     \n",
    "   # [ ] Could figure out a way to train it on other intermediate productions -- eg use WHISPER \n",
    "    # to identify a bunch of intermediate and noisy candidates; then this netowrk will be fast\n",
    "\n",
    "# there should be no UNKs in this set\n",
    "\n",
    "    \n",
    "\n",
    "# [ ] could try fiddling with the params in whisper -- but this is too slow to operate from the beginning    \n",
    "# [ ] How to handle uncertainty in the Q network -- the recongition performance depends on how we pick out UNKs \n",
    "    # Entropy based cirterion\n",
    "    # give it a 12th category of UNK\n",
    "\n",
    "    \n",
    "    \n",
    "\n",
    "\n",
    "# [ ] This means we can do early intervention with the frozen Q network\n",
    "# [ ] THis means we might have a submission for the 28th\n",
    "# [ ] consider VAD"
   ]
  },
  {
   "cell_type": "markdown",
   "id": "c72cd195-1bcf-4337-85ad-20a90c8599eb",
   "metadata": {},
   "source": [
    "# Adding Unks to the Test Set"
   ]
  },
  {
   "cell_type": "code",
   "execution_count": null,
   "id": "f87e85be-379c-4d82-b1a2-e91b991a21b0",
   "metadata": {},
   "outputs": [],
   "source": [
    "raise ValueError(\"Don't run this part automatically -- should jsut need to happen once\")"
   ]
  },
  {
   "cell_type": "code",
   "execution_count": null,
   "id": "79aa0d3d-58c0-4e49-b32e-55c7c13c29c1",
   "metadata": {},
   "outputs": [],
   "source": [
    "wavs = pd.DataFrame({'filename': glob.glob('/home/stephan/notebooks/ciwganfiwgan-pytorch/q2_dev_data/2001_relabeled/*.wav')\n",
    "})\n",
    "wavs['basename'] = [os.path.basename(x) for x in wavs.filename]\n",
    "wavs['uuid'] = [x.replace('.wav','').split('_')[-1] for x in  wavs['basename']]\n",
    "wavs['word']= [x.replace('.wav','').split('_')[0] for x in  wavs['basename']]\n",
    "wavs['keep']= ['_keep_' in x for x in wavs['basename']]\n",
    "wavs"
   ]
  },
  {
   "cell_type": "code",
   "execution_count": null,
   "id": "5b773b42-8d62-4f18-ac6a-fe7848c5fd34",
   "metadata": {},
   "outputs": [],
   "source": [
    "print(wavs.shape)\n",
    "keeps = wavs.loc[wavs.keep]\n",
    "print(keeps.shape)\n",
    "originals = wavs.loc[~wavs.keep]\n",
    "unks = originals.loc[~originals.uuid.isin(keeps.uuid)]\n",
    "print(unks.shape)"
   ]
  },
  {
   "cell_type": "code",
   "execution_count": null,
   "id": "501de27b-ad66-4674-abd4-fff1a60b4a14",
   "metadata": {},
   "outputs": [],
   "source": [
    "unks.head(5)"
   ]
  },
  {
   "cell_type": "code",
   "execution_count": null,
   "id": "4489b3d1-a817-4ed2-b30c-e9cac9f5f91b",
   "metadata": {},
   "outputs": [],
   "source": [
    "import shutil"
   ]
  },
  {
   "cell_type": "code",
   "execution_count": null,
   "id": "0f22e7f6-d266-477c-8817-5fb1fa632deb",
   "metadata": {},
   "outputs": [],
   "source": [
    "# rename the UNKS as such\n",
    "unks['new_word'] = 'UNK'\n",
    "unks['new_basename'] = unks['new_word'].map(str)+'_keep_'+unks['uuid'].map(str)+'.wav'\n",
    "directory = os.path.dirname(unks.iloc[0]['filename'])\n",
    "unks['new_filename'] = [os.path.join(directory, x) for x in  unks['new_basename']]\n",
    "unks.iloc[0].new_filename\n",
    "\n",
    "[os.rename(x['filename'], x['new_filename']) for x in unks.to_dict('records')] "
   ]
  },
  {
   "cell_type": "code",
   "execution_count": null,
   "id": "211f44f3-019d-4be6-8dcd-109cbb19a834",
   "metadata": {},
   "outputs": [],
   "source": [
    "# delete the ontes that ar in keeps\n",
    "redundant_files= originals.loc[originals.uuid.isin(keeps.uuid)]"
   ]
  },
  {
   "cell_type": "code",
   "execution_count": null,
   "id": "78f1fe4c-7729-42d5-be7e-e0ff08bbcf33",
   "metadata": {},
   "outputs": [],
   "source": [
    "redundant_files.filename"
   ]
  },
  {
   "cell_type": "code",
   "execution_count": null,
   "id": "5d3c2bd9-0e9d-4fb2-bdc3-052ebdadbcf6",
   "metadata": {},
   "outputs": [],
   "source": [
    "[os.remove(x) for x in redundant_files.filename]"
   ]
  }
 ],
 "metadata": {
  "kernelspec": {
   "display_name": "gasper-gan",
   "language": "python",
   "name": "gasper-gan"
  },
  "language_info": {
   "codemirror_mode": {
    "name": "ipython",
    "version": 3
   },
   "file_extension": ".py",
   "mimetype": "text/x-python",
   "name": "python",
   "nbconvert_exporter": "python",
   "pygments_lexer": "ipython3",
   "version": "3.8.10"
  }
 },
 "nbformat": 4,
 "nbformat_minor": 5
}
